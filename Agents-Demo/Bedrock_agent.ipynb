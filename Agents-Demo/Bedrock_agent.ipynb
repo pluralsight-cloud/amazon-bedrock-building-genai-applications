{
 "cells": [
  {
   "cell_type": "markdown",
   "id": "089569ae-9348-4442-8e2a-941a8e5c00ac",
   "metadata": {},
   "source": [
    "# Using Agents for Amazon Bedrock\n",
    "\n",
    "In this notebook we will create an Agent for Amazon Bedrock that interacts with some synthetic data held in an SQLite database.\n",
    "\n",
    "With this agent, tennis club members can check availabilty and book the tennis courts at the club.\n",
    "\n",
    "A Lambda function is used to check court availabilty and create bookings."
   ]
  },
  {
   "cell_type": "markdown",
   "id": "073fb566-1bb1-46ec-bdb3-7012a2e74714",
   "metadata": {},
   "source": [
    "## Prerequisites\n",
    "Update the botocore and boto3 packages "
   ]
  },
  {
   "cell_type": "code",
   "execution_count": null,
   "id": "c603ce06-61d8-4236-92e8-883e0d49cfea",
   "metadata": {
    "tags": []
   },
   "outputs": [],
   "source": [
    "%pip install --upgrade -q botocore\n",
    "%pip install --upgrade -q boto3\n",
    "%pip install --upgrade -q awscli"
   ]
  },
  {
   "cell_type": "code",
   "execution_count": null,
   "id": "c4b4eb38-867b-4b84-b204-d5bf51558df8",
   "metadata": {
    "tags": []
   },
   "outputs": [],
   "source": [
    "# restart kernel\n",
    "from IPython.core.display import HTML\n",
    "HTML(\"<script>Jupyter.notebook.kernel.restart()</script>\")"
   ]
  },
  {
   "cell_type": "code",
   "execution_count": null,
   "id": "5255655e-d83e-416a-a459-83590483d22b",
   "metadata": {
    "tags": []
   },
   "outputs": [],
   "source": [
    "import boto3\n",
    "import json\n",
    "import time\n",
    "import zipfile\n",
    "from io import BytesIO\n",
    "import uuid\n",
    "import pprint\n",
    "import logging"
   ]
  },
  {
   "cell_type": "code",
   "execution_count": null,
   "id": "593be615-dab2-4084-a518-ee905113bfc7",
   "metadata": {
    "tags": []
   },
   "outputs": [],
   "source": [
    "# Logging facility for Python is used to help confirm things are working as expected!\n",
    "logging.basicConfig(format='[%(asctime)s] p%(process)s {%(filename)s:%(lineno)d} %(levelname)s - %(message)s', level=logging.INFO)\n",
    "logger = logging.getLogger(__name__)"
   ]
  },
  {
   "cell_type": "markdown",
   "id": "a4c7cc78-b5e8-4740-810b-b5fa827a83a4",
   "metadata": {},
   "source": [
    "Create the boto3 clients needed for a number of AWS services"
   ]
  },
  {
   "cell_type": "code",
   "execution_count": null,
   "id": "67883027-bbb5-42a6-955d-0aa019a8e4b3",
   "metadata": {
    "tags": []
   },
   "outputs": [],
   "source": [
    "# creating boto3 clients for the services we'll use\n",
    "sts_client = boto3.client('sts')\n",
    "iam_client = boto3.client('iam')\n",
    "lambda_client = boto3.client('lambda')\n",
    "bedrock_agent_client = boto3.client('bedrock-agent')\n",
    "bedrock_agent_runtime_client = boto3.client('bedrock-agent-runtime')"
   ]
  },
  {
   "cell_type": "markdown",
   "id": "71505c3b-c2a5-47dc-a427-77f21ab50f0d",
   "metadata": {},
   "source": [
    "Setting configuration variables for the session, as well as those needed for the Bedrock agent and a lambda function that will be created later"
   ]
  },
  {
   "cell_type": "code",
   "execution_count": null,
   "id": "f6af5cd4-33b8-40c3-9d99-1790540eb60c",
   "metadata": {
    "tags": []
   },
   "outputs": [],
   "source": [
    "session = boto3.session.Session()\n",
    "region = session.region_name\n",
    "account_id = sts_client.get_caller_identity()[\"Account\"]"
   ]
  },
  {
   "cell_type": "code",
   "execution_count": null,
   "id": "0dcb5332-c035-435a-91e5-838ec95d9a7d",
   "metadata": {
    "tags": []
   },
   "outputs": [],
   "source": [
    "# configuration variables\n",
    "suffix = f\"{region}-{account_id}\"\n",
    "agent_name = \"booking-assistant-function-def\"\n",
    "agent_bedrock_allow_policy_name = f\"{agent_name}-ba-{suffix}\"\n",
    "agent_role_name = f'AmazonBedrockExecutionRoleForAgents_{agent_name}'\n",
    "agent_foundation_model = \"anthropic.claude-3-sonnet-20240229-v1:0\"\n",
    "agent_description = \"Agent for booking tennis courts\"\n",
    "agent_instruction = \"You are a polite booking system agent, helping helping members of a tennis club to book tennis courts\"\n",
    "agent_action_group_name = \"BookingsActionGroup\"\n",
    "agent_action_group_description = \"Actions for helping members of tennis club to book tennis courts\"\n",
    "agent_alias_name = f\"{agent_name}-alias\"\n",
    "lambda_function_role = f'{agent_name}-lambda-role-{suffix}'\n",
    "lambda_function_name = f'{agent_name}-{suffix}'"
   ]
  },
  {
   "cell_type": "markdown",
   "id": "40325ffc-b89e-4f44-813b-a7c7b3f1f977",
   "metadata": {},
   "source": [
    "## Creating a Lambda Function\n",
    "\n",
    "A Lambda function is going to interact with our data in SQLite. This function will later be triggered by the agent.\n",
    "1. `lambda_function.py` file contains the function logic\n",
    "2. An IAM role is needed to give our Lambda function the required permissions "
   ]
  },
  {
   "cell_type": "markdown",
   "id": "f3b5b69c-1231-4647-8d33-292ba10ec616",
   "metadata": {},
   "source": [
    "## Creating a Dataset\n",
    "\n",
    "First we create the `tennis_booking_system.db` file that contains a database populated with some generated data for our application. \n",
    "SQLite is a Python library that provides a lightweight SQL compatible database, we can use it to prototype our application. "
   ]
  },
  {
   "cell_type": "code",
   "execution_count": null,
   "id": "3196b16c-2d97-406b-bba7-de969fff8add",
   "metadata": {
    "tags": []
   },
   "outputs": [],
   "source": [
    "# Tennis court booking database for use by a lambda function\n",
    "import sqlite3\n",
    "import random\n",
    "from datetime import date, timedelta, datetime\n",
    "\n",
    "# Connect to the SQLite database and create a new one if it doesn't already exist\n",
    "conn = sqlite3.connect('tennis_booking_system.db')\n",
    "c = conn.cursor()\n",
    "\n",
    "# Create courts table\n",
    "c.execute('''\n",
    "    CREATE TABLE IF NOT EXISTS courts (\n",
    "        court_id INTEGER PRIMARY KEY AUTOINCREMENT,\n",
    "        court_name TEXT UNIQUE\n",
    "    )\n",
    "''')\n",
    "\n",
    "# Insert the 4 tennis courts (Court A, Court B, Court C, and Court D)\n",
    "courts = [(\"Court A\",), (\"Court B\",), (\"Court C\",), (\"Court D\",)]\n",
    "c.executemany(\"INSERT OR IGNORE INTO courts (court_name) VALUES (?)\", courts)\n",
    "\n",
    "# Create bookings table\n",
    "c.execute('''\n",
    "    CREATE TABLE IF NOT EXISTS bookings (\n",
    "        booking_id INTEGER PRIMARY KEY AUTOINCREMENT,\n",
    "        court_id INTEGER,\n",
    "        booking_date TEXT,  -- e.g., '2025-02-15'\n",
    "        start_time TEXT,    -- e.g., '09:00'\n",
    "        end_time TEXT,      -- e.g., '10:00'\n",
    "        booked_by TEXT,     -- Name of the person booking the court\n",
    "        notes TEXT,\n",
    "        FOREIGN KEY(court_id) REFERENCES courts(court_id)\n",
    "    )\n",
    "''')\n",
    "\n",
    "# Generate random booking data for 10 bookings\n",
    "customer_names = [\n",
    "    'Frank Watson', 'Anna Miller', 'Anand Shah', 'Denise Washington',\n",
    "    'Tina Adams', 'Nathan Sharma', 'Sam Green', 'Maria Hernandez',\n",
    "    'James Smith', 'Carlos da Silva'\n",
    "]\n",
    "\n",
    "for i in range(10):\n",
    "    # Choose a random court from the four available\n",
    "    chosen_court = random.choice([\"Court A\", \"Court B\", \"Court C\", \"Court D\"])\n",
    "    c.execute(\"SELECT court_id FROM courts WHERE court_name = ?\", (chosen_court,))\n",
    "    court_id = c.fetchone()[0]\n",
    "    \n",
    "    # Generate a random booking date within the next 30 days\n",
    "    random_days = random.randint(0, 30)\n",
    "    booking_date = (date.today() + timedelta(days=random_days)).strftime('%Y-%m-%d')\n",
    "    \n",
    "    # Generate a random start time between 8:00 and 19:00 (to allow a 1- or 2-hour slot)\n",
    "    start_hour = random.randint(8, 19)\n",
    "    start_minute = random.choice([0, 15, 30, 45])\n",
    "    # Use a dummy date to format the time\n",
    "    start_time_dt = datetime(2000, 1, 1, start_hour, start_minute)\n",
    "    # Randomly choose a booking duration of 1 or 2 hours\n",
    "    duration = random.choice([1, 2])\n",
    "    end_time_dt = start_time_dt + timedelta(hours=duration)\n",
    "    \n",
    "    start_time_str = start_time_dt.strftime('%H:%M')\n",
    "    end_time_str = end_time_dt.strftime('%H:%M')\n",
    "    \n",
    "    booked_by = random.choice(customer_names)\n",
    "    notes = \"Random booking\"  # Optionally, add more details\n",
    "    \n",
    "    c.execute('''\n",
    "        INSERT INTO bookings (court_id, booking_date, start_time, end_time, booked_by, notes)\n",
    "        VALUES (?, ?, ?, ?, ?, ?)\n",
    "    ''', (court_id, booking_date, start_time_str, end_time_str, booked_by, notes))\n",
    "\n",
    "# Commit the changes and close the connection\n",
    "conn.commit()\n",
    "conn.close()\n"
   ]
  },
  {
   "cell_type": "markdown",
   "id": "4f63b906-9eff-4b99-a466-5aeb81e0d095",
   "metadata": {},
   "source": [
    "Create our lambda function. \n",
    "It has the ability to check which courts are available at a given time and date, and book courts if no conflicts exist."
   ]
  },
  {
   "cell_type": "code",
   "execution_count": null,
   "id": "476a71a8-61c1-4dd4-89a1-6ac59f38cd3d",
   "metadata": {
    "tags": []
   },
   "outputs": [],
   "source": [
    "%%writefile lambda_function.py\n",
    "import os\n",
    "import shutil\n",
    "import sqlite3\n",
    "from datetime import datetime\n",
    "\n",
    "def check_court_availability(court_name, booking_date, start_time, end_time):\n",
    "    \"\"\"\n",
    "    Check if the specified court is available on a given date and time slot.\n",
    "    Returns \"Available\" if free, otherwise returns a message with conflict details.\n",
    "    \"\"\"\n",
    "    # Connect to the tennis booking database\n",
    "    conn = sqlite3.connect('/tmp/tennis_booking_system.db')\n",
    "    c = conn.cursor()\n",
    "    \n",
    "    # Get the court ID from the courts table\n",
    "    c.execute(\"SELECT court_id FROM courts WHERE court_name = ?\", (court_name,))\n",
    "    court = c.fetchone()\n",
    "    if not court:\n",
    "        conn.close()\n",
    "        return f\"Court {court_name} not found.\"\n",
    "    court_id = court[0]\n",
    "    \n",
    "    # Retrieve any existing bookings for the court on the given date\n",
    "    c.execute(\"SELECT start_time, end_time FROM bookings WHERE court_id = ? AND booking_date = ?\", (court_id, booking_date))\n",
    "    existing_bookings = c.fetchall()\n",
    "    conn.close()\n",
    "    \n",
    "    # Convert the times to datetime objects for easy comparison\n",
    "    new_start = datetime.strptime(start_time, '%H:%M')\n",
    "    new_end = datetime.strptime(end_time, '%H:%M')\n",
    "    \n",
    "    conflicts = []\n",
    "    for booking in existing_bookings:\n",
    "        booked_start = datetime.strptime(booking[0], '%H:%M')\n",
    "        booked_end = datetime.strptime(booking[1], '%H:%M')\n",
    "        # Check if the new booking overlaps with any existing booking\n",
    "        if new_start < booked_end and new_end > booked_start:\n",
    "            conflicts.append(f\"{booking[0]}-{booking[1]}\")\n",
    "    \n",
    "    if conflicts:\n",
    "        return f\"Not available. Conflicts with booking(s) at: {', '.join(conflicts)}\"\n",
    "    else:\n",
    "        return \"Available\"\n",
    "\n",
    "def reserve_court(court_name, booking_date, start_time, end_time, booked_by, notes=\"\"):\n",
    "    \"\"\"\n",
    "    Reserve the specified court on a given date and time slot for a person.\n",
    "    First checks for availability and then inserts the booking if possible.\n",
    "    \"\"\"\n",
    "    # Connect to the tennis booking database\n",
    "    conn = sqlite3.connect('/tmp/tennis_booking_system.db')\n",
    "    c = conn.cursor()\n",
    "    \n",
    "    # Get the court ID from the courts table\n",
    "    c.execute(\"SELECT court_id FROM courts WHERE court_name = ?\", (court_name,))\n",
    "    court = c.fetchone()\n",
    "    if not court:\n",
    "        conn.close()\n",
    "        return f\"Court {court_name} not found.\"\n",
    "    court_id = court[0]\n",
    "    \n",
    "    # Check availability for the requested slot\n",
    "    c.execute(\"SELECT start_time, end_time FROM bookings WHERE court_id = ? AND booking_date = ?\", (court_id, booking_date))\n",
    "    existing_bookings = c.fetchall()\n",
    "    \n",
    "    new_start = datetime.strptime(start_time, '%H:%M')\n",
    "    new_end = datetime.strptime(end_time, '%H:%M')\n",
    "    \n",
    "    for booking in existing_bookings:\n",
    "        booked_start = datetime.strptime(booking[0], '%H:%M')\n",
    "        booked_end = datetime.strptime(booking[1], '%H:%M')\n",
    "        if new_start < booked_end and new_end > booked_start:\n",
    "            conn.close()\n",
    "            return f\"Cannot reserve {court_name} on {booking_date} from {start_time} to {end_time}. Conflicts with booking {booking[0]}-{booking[1]}.\"\n",
    "    \n",
    "    # Insert the new booking since there is no conflict\n",
    "    c.execute(\"\"\"\n",
    "        INSERT INTO bookings (court_id, booking_date, start_time, end_time, booked_by, notes)\n",
    "        VALUES (?, ?, ?, ?, ?, ?)\n",
    "    \"\"\", (court_id, booking_date, start_time, end_time, booked_by, notes))\n",
    "    \n",
    "    conn.commit()\n",
    "    conn.close()\n",
    "    return f\"Booking confirmed for {court_name} on {booking_date} from {start_time} to {end_time} for {booked_by}.\"\n",
    "\n",
    "def lambda_handler(event, context):\n",
    "    \"\"\"\n",
    "    Lambda handler that supports two functions:\n",
    "      - 'check_court_availability': Checks if a specified court is available.\n",
    "      - 'reserve_court': Attempts to reserve a specified court.\n",
    "    The event payload should include a 'function' field and parameters.\n",
    "    \"\"\"\n",
    "    original_db_file = 'tennis_booking_system.db'\n",
    "    target_db_file = '/tmp/tennis_booking_system.db'\n",
    "    if not os.path.exists(target_db_file):\n",
    "        shutil.copy2(original_db_file, target_db_file)\n",
    "    \n",
    "    actionGroup = event.get('actionGroup')\n",
    "    function = event.get('function')\n",
    "    parameters = event.get('parameters', [])\n",
    "    responseBody = {\n",
    "        \"TEXT\": {\n",
    "            \"body\": \"Error, no function was called\"\n",
    "        }\n",
    "    }\n",
    "    \n",
    "    if function == 'check_court_availability':\n",
    "        court_name = None\n",
    "        booking_date = None\n",
    "        start_time = None\n",
    "        end_time = None\n",
    "        \n",
    "        for param in parameters:\n",
    "            if param[\"name\"] == \"court_name\":\n",
    "                court_name = param[\"value\"]\n",
    "            elif param[\"name\"] == \"booking_date\":\n",
    "                booking_date = param[\"value\"]\n",
    "            elif param[\"name\"] == \"start_time\":\n",
    "                start_time = param[\"value\"]\n",
    "            elif param[\"name\"] == \"end_time\":\n",
    "                end_time = param[\"value\"]\n",
    "        \n",
    "        # Validate parameters\n",
    "        if not court_name:\n",
    "            raise Exception(\"Missing mandatory parameter: court_name\")\n",
    "        if not booking_date:\n",
    "            raise Exception(\"Missing mandatory parameter: booking_date\")\n",
    "        if not start_time:\n",
    "            raise Exception(\"Missing mandatory parameter: start_time\")\n",
    "        if not end_time:\n",
    "            raise Exception(\"Missing mandatory parameter: end_time\")\n",
    "        \n",
    "        availability = check_court_availability(court_name, booking_date, start_time, end_time)\n",
    "        responseBody = {\n",
    "            'TEXT': {\n",
    "                \"body\": f\"Availability for {court_name} on {booking_date} from {start_time} to {end_time}: {availability}\"\n",
    "            }\n",
    "        }\n",
    "    \n",
    "    elif function == 'reserve_court':\n",
    "        court_name = None\n",
    "        booking_date = None\n",
    "        start_time = None\n",
    "        end_time = None\n",
    "        booked_by = None\n",
    "        notes = \"\"\n",
    "        \n",
    "        for param in parameters:\n",
    "            if param[\"name\"] == \"court_name\":\n",
    "                court_name = param[\"value\"]\n",
    "            elif param[\"name\"] == \"booking_date\":\n",
    "                booking_date = param[\"value\"]\n",
    "            elif param[\"name\"] == \"start_time\":\n",
    "                start_time = param[\"value\"]\n",
    "            elif param[\"name\"] == \"end_time\":\n",
    "                end_time = param[\"value\"]\n",
    "            elif param[\"name\"] == \"booked_by\":\n",
    "                booked_by = param[\"value\"]\n",
    "            elif param[\"name\"] == \"notes\":\n",
    "                notes = param[\"value\"]\n",
    "        \n",
    "        # Validate parameters\n",
    "        if not court_name:\n",
    "            raise Exception(\"Missing mandatory parameter: court_name\")\n",
    "        if not booking_date:\n",
    "            raise Exception(\"Missing mandatory parameter: booking_date\")\n",
    "        if not start_time:\n",
    "            raise Exception(\"Missing mandatory parameter: start_time\")\n",
    "        if not end_time:\n",
    "            raise Exception(\"Missing mandatory parameter: end_time\")\n",
    "        if not booked_by:\n",
    "            raise Exception(\"Missing mandatory parameter: booked_by\")\n",
    "        \n",
    "        completion_message = reserve_court(court_name, booking_date, start_time, end_time, booked_by, notes)\n",
    "        responseBody = {\n",
    "            'TEXT': {\n",
    "                \"body\": completion_message\n",
    "            }\n",
    "        }\n",
    "    \n",
    "    action_response = {\n",
    "        'actionGroup': actionGroup,\n",
    "        'function': function,\n",
    "        'functionResponse': {\n",
    "            'responseBody': responseBody\n",
    "        }\n",
    "    }\n",
    "    \n",
    "    function_response = {\n",
    "        'response': action_response,\n",
    "        'messageVersion': event.get('messageVersion')\n",
    "    }\n",
    "    \n",
    "    print(\"Response:\", function_response)\n",
    "    return function_response"
   ]
  },
  {
   "cell_type": "markdown",
   "id": "bc3920a2-7909-4725-ab86-df3000d2c963",
   "metadata": {},
   "source": [
    "Next let's create the lambda IAM role and policy to invoke a Bedrock model"
   ]
  },
  {
   "cell_type": "code",
   "execution_count": null,
   "id": "e9a5ad9c-7fc0-4844-bc89-c32e409dd327",
   "metadata": {
    "tags": []
   },
   "outputs": [],
   "source": [
    "# Create IAM Role for the Lambda function\n",
    "try:\n",
    "    assume_role_policy_document = {\n",
    "        \"Version\": \"2012-10-17\",\n",
    "        \"Statement\": [\n",
    "            {\n",
    "                \"Effect\": \"Allow\",\n",
    "                \"Principal\": {\n",
    "                    \"Service\": \"lambda.amazonaws.com\"\n",
    "                },\n",
    "                \"Action\": \"sts:AssumeRole\"\n",
    "            }\n",
    "        ]\n",
    "    }\n",
    "\n",
    "    assume_role_policy_document_json = json.dumps(assume_role_policy_document)\n",
    "\n",
    "    lambda_iam_role = iam_client.create_role(\n",
    "        RoleName=lambda_function_role,\n",
    "        AssumeRolePolicyDocument=assume_role_policy_document_json\n",
    "    )\n",
    "\n",
    "    # Pause to make sure role is created\n",
    "    time.sleep(10)\n",
    "except:\n",
    "    lambda_iam_role = iam_client.get_role(RoleName=lambda_function_role)\n",
    "\n",
    "iam_client.attach_role_policy(\n",
    "    RoleName=lambda_function_role,\n",
    "    PolicyArn='arn:aws:iam::aws:policy/service-role/AWSLambdaBasicExecutionRole'\n",
    ")"
   ]
  },
  {
   "cell_type": "markdown",
   "id": "1377cc22-4035-43d0-8e55-648107d5b087",
   "metadata": {},
   "source": [
    "We can now package the lambda function to a Zip file and create the lambda function using boto3"
   ]
  },
  {
   "cell_type": "code",
   "execution_count": null,
   "id": "4db0472f-dfda-4085-8a44-89971f34c5a9",
   "metadata": {
    "tags": []
   },
   "outputs": [],
   "source": [
    "# Package up the lambda function code\n",
    "s = BytesIO()\n",
    "z = zipfile.ZipFile(s, 'w')\n",
    "z.write(\"lambda_function.py\")\n",
    "z.write(\"tennis_booking_system.db\")\n",
    "z.close()\n",
    "zip_content = s.getvalue()\n",
    "\n",
    "# Create Lambda Function\n",
    "lambda_function = lambda_client.create_function(\n",
    "    FunctionName=lambda_function_name,\n",
    "    Runtime='python3.12',\n",
    "    Timeout=180,\n",
    "    Role=lambda_iam_role['Role']['Arn'],\n",
    "    Code={'ZipFile': zip_content},\n",
    "    Handler='lambda_function.lambda_handler'\n",
    ")"
   ]
  },
  {
   "cell_type": "markdown",
   "id": "87aa9665-7cab-4794-b496-fd84a8a7972b",
   "metadata": {},
   "source": [
    "## Create Agent\n",
    "We will now create the agent. To do so, we first need to create the agent policies that allow bedrock model invocation for a specific foundation model and the agent IAM role with the policy associated to it. "
   ]
  },
  {
   "cell_type": "code",
   "execution_count": null,
   "id": "10ffd724-3d1b-4916-8513-466c5dd03fcc",
   "metadata": {
    "tags": []
   },
   "outputs": [],
   "source": [
    "# Create IAM policies for agent\n",
    "bedrock_agent_bedrock_allow_policy_statement = {\n",
    "    \"Version\": \"2012-10-17\",\n",
    "    \"Statement\": [\n",
    "        {\n",
    "            \"Sid\": \"AmazonBedrockAgentBedrockFoundationModelPolicy\",\n",
    "            \"Effect\": \"Allow\",\n",
    "            \"Action\": \"bedrock:InvokeModel\",\n",
    "            \"Resource\": [\n",
    "                f\"arn:aws:bedrock:{region}::foundation-model/{agent_foundation_model}\"\n",
    "            ]\n",
    "        }\n",
    "    ]\n",
    "}\n",
    "\n",
    "bedrock_policy_json = json.dumps(bedrock_agent_bedrock_allow_policy_statement)\n",
    "\n",
    "agent_bedrock_policy = iam_client.create_policy(\n",
    "    PolicyName=agent_bedrock_allow_policy_name,\n",
    "    PolicyDocument=bedrock_policy_json\n",
    ")\n",
    "\n"
   ]
  },
  {
   "cell_type": "code",
   "execution_count": null,
   "id": "83f3cf61-e65b-4c61-8a66-76bd5946eb32",
   "metadata": {
    "tags": []
   },
   "outputs": [],
   "source": [
    "# Create IAM Role for the agent and attach IAM policies\n",
    "assume_role_policy_document = {\n",
    "    \"Version\": \"2012-10-17\",\n",
    "    \"Statement\": [{\n",
    "          \"Effect\": \"Allow\",\n",
    "          \"Principal\": {\n",
    "            \"Service\": \"bedrock.amazonaws.com\"\n",
    "          },\n",
    "          \"Action\": \"sts:AssumeRole\"\n",
    "    }]\n",
    "}\n",
    "\n",
    "assume_role_policy_document_json = json.dumps(assume_role_policy_document)\n",
    "agent_role = iam_client.create_role(\n",
    "    RoleName=agent_role_name,\n",
    "    AssumeRolePolicyDocument=assume_role_policy_document_json\n",
    ")\n",
    "\n",
    "# Pause to make sure role is created\n",
    "time.sleep(10)\n",
    "    \n",
    "iam_client.attach_role_policy(\n",
    "    RoleName=agent_role_name,\n",
    "    PolicyArn=agent_bedrock_policy['Policy']['Arn']\n",
    ")"
   ]
  },
  {
   "cell_type": "markdown",
   "id": "6083fe88-05af-4455-9744-e9593fc784f3",
   "metadata": {},
   "source": [
    "### Creating the agent\n",
    "Once the needed IAM role is created, we use the Bedrock Agent client `create_agent` function to create the agent. \n",
    "It requires an agent name, underlying foundation model and instructions. You can also provide an agent description. "
   ]
  },
  {
   "cell_type": "code",
   "execution_count": null,
   "id": "6251ebaa-693d-4fee-b28c-2b0692d94ae5",
   "metadata": {
    "tags": []
   },
   "outputs": [],
   "source": [
    "response = bedrock_agent_client.create_agent(\n",
    "    agentName=agent_name,\n",
    "    agentResourceRoleArn=agent_role['Role']['Arn'],\n",
    "    description=agent_description,\n",
    "    idleSessionTTLInSeconds=1800,\n",
    "    foundationModel=agent_foundation_model,\n",
    "    instruction=agent_instruction,\n",
    ")\n",
    "response"
   ]
  },
  {
   "cell_type": "markdown",
   "id": "55a44f69-64ae-45ce-8961-41cf4363f271",
   "metadata": {},
   "source": [
    "Store the agent id in a local variable to use later"
   ]
  },
  {
   "cell_type": "code",
   "execution_count": null,
   "id": "0774ea09-6ccf-476d-b2bb-c8265b614f60",
   "metadata": {
    "tags": []
   },
   "outputs": [],
   "source": [
    "agent_id = response['agent']['agentId']\n",
    "agent_id"
   ]
  },
  {
   "cell_type": "markdown",
   "id": "65efbf63-fbdb-4220-ab89-c7af740447ef",
   "metadata": {},
   "source": [
    "## Create Agent Action Group\n",
    "We will now create an agent action group that uses the Lambda function. The [`create_agent_action_group`](https://boto3.amazonaws.com/v1/documentation/api/latest/reference/services/bedrock-agent/client/create_agent_action_group.html) function provides this functionality. We will use `DRAFT` as the agent version since we haven't yet created an agent version or alias. To inform the agent about the action group capabilities, we provide an action group description.\n",
    "\n",
    "The Action Group functionality is defined using a `functionSchema` and we need to provide the `name`, `description` and `parameters` for each agent function."
   ]
  },
  {
   "cell_type": "code",
   "execution_count": null,
   "id": "a99e5855-fe22-450b-889a-da73e44fdc30",
   "metadata": {
    "tags": []
   },
   "outputs": [],
   "source": [
    "agent_functions = [\n",
    "    {\n",
    "        'name': 'check_court_availability',\n",
    "        'description': 'Check if a tennis court is available on a specific date and time slot',\n",
    "        'parameters': {\n",
    "            \"court_name\": {\n",
    "                \"description\": \"The name of the tennis court (e.g., 'Court A')\",\n",
    "                \"required\": True,\n",
    "                \"type\": \"string\"\n",
    "            },\n",
    "            \"booking_date\": {\n",
    "                \"description\": \"The date for the booking in YYYY-MM-DD format\",\n",
    "                \"required\": True,\n",
    "                \"type\": \"string\"\n",
    "            },\n",
    "            \"start_time\": {\n",
    "                \"description\": \"The start time of the booking in HH:MM format\",\n",
    "                \"required\": True,\n",
    "                \"type\": \"string\"\n",
    "            },\n",
    "            \"end_time\": {\n",
    "                \"description\": \"The end time of the booking in HH:MM format\",\n",
    "                \"required\": True,\n",
    "                \"type\": \"string\"\n",
    "            }\n",
    "        }\n",
    "    },\n",
    "    {\n",
    "        'name': 'reserve_court',\n",
    "        'description': 'Reserve a tennis court for a specific date and time slot',\n",
    "        'parameters': {\n",
    "            \"court_name\": {\n",
    "                \"description\": \"The name of the tennis court to reserve (e.g., 'Court A')\",\n",
    "                \"required\": True,\n",
    "                \"type\": \"string\"\n",
    "            },\n",
    "            \"booking_date\": {\n",
    "                \"description\": \"The date for the booking in YYYY-MM-DD format\",\n",
    "                \"required\": True,\n",
    "                \"type\": \"string\"\n",
    "            },\n",
    "            \"start_time\": {\n",
    "                \"description\": \"The start time of the booking in HH:MM format\",\n",
    "                \"required\": True,\n",
    "                \"type\": \"string\"\n",
    "            },\n",
    "            \"end_time\": {\n",
    "                \"description\": \"The end time of the booking in HH:MM format\",\n",
    "                \"required\": True,\n",
    "                \"type\": \"string\"\n",
    "            },\n",
    "            \"booked_by\": {\n",
    "                \"description\": \"The name of the person reserving the court\",\n",
    "                \"required\": True,\n",
    "                \"type\": \"string\"\n",
    "            }\n",
    "        }\n",
    "    }\n",
    "]\n"
   ]
  },
  {
   "cell_type": "code",
   "execution_count": null,
   "id": "d474b3e7-8501-48ed-82d1-f8a3792227a4",
   "metadata": {
    "tags": []
   },
   "outputs": [],
   "source": [
    "# Wait for the agent to finish being created\n",
    "time.sleep(30)\n",
    "# Configure and create the action group\n",
    "agent_action_group_response = bedrock_agent_client.create_agent_action_group(\n",
    "    agentId=agent_id,\n",
    "    agentVersion='DRAFT',\n",
    "    actionGroupExecutor={\n",
    "        'lambda': lambda_function['FunctionArn']\n",
    "    },\n",
    "    actionGroupName=agent_action_group_name,\n",
    "    functionSchema={\n",
    "        'functions': agent_functions\n",
    "    },\n",
    "    description=agent_action_group_description\n",
    ")"
   ]
  },
  {
   "cell_type": "code",
   "execution_count": null,
   "id": "22feec4a-d3ec-48f6-9e33-e5a09f08701e",
   "metadata": {
    "tags": []
   },
   "outputs": [],
   "source": [
    "agent_action_group_response"
   ]
  },
  {
   "cell_type": "markdown",
   "id": "751873ee-631b-437d-af97-cb86bd8a0890",
   "metadata": {},
   "source": [
    "## Enable Agent to invoke the Action Group Lambda function\n",
    "Enable the agent to invoke the Lambda function by adding the required permission to a resource-based policy. "
   ]
  },
  {
   "cell_type": "code",
   "execution_count": null,
   "id": "c739e041-9ea0-4eef-8151-d206e2fd9e37",
   "metadata": {
    "tags": []
   },
   "outputs": [],
   "source": [
    "# Create allow invoke permission on lambda\n",
    "response = lambda_client.add_permission(\n",
    "    FunctionName=lambda_function_name,\n",
    "    StatementId='allow_bedrock',\n",
    "    Action='lambda:InvokeFunction',\n",
    "    Principal='bedrock.amazonaws.com',\n",
    "    SourceArn=f\"arn:aws:bedrock:{region}:{account_id}:agent/{agent_id}\",\n",
    ")\n"
   ]
  },
  {
   "cell_type": "code",
   "execution_count": null,
   "id": "a5cdfb72-e41c-4d78-ab12-ce8394574c17",
   "metadata": {
    "tags": []
   },
   "outputs": [],
   "source": [
    "response"
   ]
  },
  {
   "cell_type": "markdown",
   "id": "2b3bab10-e5dc-4138-a9ff-76b2ff2ff9e6",
   "metadata": {},
   "source": [
    "## Preparing the Agent\n",
    "\n",
    "Creating a DRAFT version of the agent that can be used for internal testing.\n"
   ]
  },
  {
   "cell_type": "code",
   "execution_count": null,
   "id": "e7094e7f-915a-4396-8d98-c3bfee3ccf1e",
   "metadata": {
    "tags": []
   },
   "outputs": [],
   "source": [
    "response = bedrock_agent_client.prepare_agent(\n",
    "    agentId=agent_id\n",
    ")\n",
    "print(response)"
   ]
  },
  {
   "cell_type": "code",
   "execution_count": null,
   "id": "aae1ff1a",
   "metadata": {},
   "outputs": [],
   "source": [
    "# Pause to make sure agent is prepared\n",
    "time.sleep(30)\n",
    "\n",
    "# Extract the agentAliasId from the response\n",
    "agent_alias_id = \"TSTALIASID\""
   ]
  },
  {
   "cell_type": "markdown",
   "id": "80f2be3a-007e-4278-b8cc-4ffd7222234b",
   "metadata": {},
   "source": [
    "## Invoke Agent\n",
    "\n",
    "Invoking the agent using the `bedrock-agent-runtime` client"
   ]
  },
  {
   "cell_type": "code",
   "execution_count": null,
   "id": "22bfea60-67fd-43ea-b7a1-7ca5668cb36f",
   "metadata": {
    "tags": []
   },
   "outputs": [],
   "source": [
    "## create a random id for session initiator id\n",
    "session_id:str = str(uuid.uuid1())\n",
    "enable_trace:bool = False\n",
    "end_session:bool = False\n",
    "\n",
    "# invoke the agent API\n",
    "agentResponse = bedrock_agent_runtime_client.invoke_agent(\n",
    "    inputText=\"Which courts are available on Thursday 2025-02-13 from 14:00 to 15:00?\",\n",
    "    agentId=agent_id,\n",
    "    agentAliasId=agent_alias_id, \n",
    "    sessionId=session_id,\n",
    "    enableTrace=enable_trace, \n",
    "    endSession= end_session\n",
    ")\n",
    "\n",
    "logger.info(pprint.pprint(agentResponse))"
   ]
  },
  {
   "cell_type": "code",
   "execution_count": null,
   "id": "653747cc-301f-40a7-b8cf-058d7b0d75b3",
   "metadata": {
    "tags": []
   },
   "outputs": [],
   "source": [
    "%%time\n",
    "event_stream = agentResponse['completion']\n",
    "try:\n",
    "    for event in event_stream:        \n",
    "        if 'chunk' in event:\n",
    "            data = event['chunk']['bytes']\n",
    "            logger.info(f\"Final answer ->\\n{data.decode('utf8')}\")\n",
    "            agent_answer = data.decode('utf8')\n",
    "            end_event_received = True\n",
    "            # End event indicates that the request finished successfully\n",
    "        elif 'trace' in event:\n",
    "            logger.info(json.dumps(event['trace'], indent=2))\n",
    "        else:\n",
    "            raise Exception(\"unexpected event.\", event)\n",
    "except Exception as e:\n",
    "    raise Exception(\"unexpected event.\", e)"
   ]
  },
  {
   "cell_type": "code",
   "execution_count": null,
   "id": "a67a9ef1",
   "metadata": {},
   "outputs": [],
   "source": [
    "agentResponse = bedrock_agent_runtime_client.invoke_agent(\n",
    "    inputText=\"Please book Court A on Thursday 2025-02-13 from 14:00 to 15:00 for Faye Ellis\",\n",
    "    agentId=agent_id,\n",
    "    agentAliasId=agent_alias_id, \n",
    "    sessionId=session_id,\n",
    "    enableTrace=enable_trace, \n",
    "    endSession= end_session\n",
    ")\n",
    "\n",
    "logger.info(pprint.pprint(agentResponse))"
   ]
  },
  {
   "cell_type": "code",
   "execution_count": null,
   "id": "19ac498d",
   "metadata": {},
   "outputs": [],
   "source": [
    "%%time\n",
    "event_stream = agentResponse['completion']\n",
    "try:\n",
    "    for event in event_stream:        \n",
    "        if 'chunk' in event:\n",
    "            data = event['chunk']['bytes']\n",
    "            logger.info(f\"Final answer ->\\n{data.decode('utf8')}\")\n",
    "            agent_answer = data.decode('utf8')\n",
    "            end_event_received = True\n",
    "            # End event indicates that the request finished successfully\n",
    "        elif 'trace' in event:\n",
    "            logger.info(json.dumps(event['trace'], indent=2))\n",
    "        else:\n",
    "            raise Exception(\"unexpected event.\", event)\n",
    "except Exception as e:\n",
    "    raise Exception(\"unexpected event.\", e)"
   ]
  },
  {
   "cell_type": "code",
   "execution_count": null,
   "id": "81061ed1",
   "metadata": {},
   "outputs": [],
   "source": [
    "agentResponse = bedrock_agent_runtime_client.invoke_agent(\n",
    "    inputText=\"Please book Court A on Thursday from 14:00 to 15:00 for Faye Ellis\",\n",
    "    agentId=agent_id,\n",
    "    agentAliasId=agent_alias_id, \n",
    "    sessionId=session_id,\n",
    "    enableTrace=enable_trace, \n",
    "    endSession= end_session\n",
    ")\n",
    "\n",
    "logger.info(pprint.pprint(agentResponse))"
   ]
  },
  {
   "cell_type": "code",
   "execution_count": null,
   "id": "2c1f2f0f",
   "metadata": {},
   "outputs": [],
   "source": [
    "%%time\n",
    "event_stream = agentResponse['completion']\n",
    "try:\n",
    "    for event in event_stream:        \n",
    "        if 'chunk' in event:\n",
    "            data = event['chunk']['bytes']\n",
    "            logger.info(f\"Final answer ->\\n{data.decode('utf8')}\")\n",
    "            agent_answer = data.decode('utf8')\n",
    "            end_event_received = True\n",
    "            # End event indicates that the request finished successfully\n",
    "        elif 'trace' in event:\n",
    "            logger.info(json.dumps(event['trace'], indent=2))\n",
    "        else:\n",
    "            raise Exception(\"unexpected event.\", event)\n",
    "except Exception as e:\n",
    "    raise Exception(\"unexpected event.\", e)"
   ]
  },
  {
   "cell_type": "markdown",
   "id": "ee86a091-a966-4a3f-949d-4f72f7058c4b",
   "metadata": {},
   "source": [
    "## Cleaning Up\n",
    "\n",
    "Run the following cells to delete everything we created, including:\n",
    "\n",
    "1. Action group\n",
    "2. Agent \n",
    "3. Lambda function\n",
    "4. IAM roles and policies\n"
   ]
  },
  {
   "cell_type": "code",
   "execution_count": null,
   "id": "f4e45972-8b18-42f8-90a5-d647c02b38bb",
   "metadata": {
    "tags": []
   },
   "outputs": [],
   "source": [
    "# Deleting the Action Group\n",
    "action_group_id = agent_action_group_response['agentActionGroup']['actionGroupId']\n",
    "action_group_name = agent_action_group_response['agentActionGroup']['actionGroupName']\n",
    "\n",
    "response = bedrock_agent_client.update_agent_action_group(\n",
    "    agentId=agent_id,\n",
    "    agentVersion='DRAFT',\n",
    "    actionGroupId= action_group_id,\n",
    "    actionGroupName=action_group_name,\n",
    "    actionGroupExecutor={\n",
    "        'lambda': lambda_function['FunctionArn']\n",
    "    },\n",
    "    functionSchema={\n",
    "        'functions': agent_functions\n",
    "    },\n",
    "    actionGroupState='DISABLED',\n",
    ")\n",
    "\n",
    "action_group_deletion = bedrock_agent_client.delete_agent_action_group(\n",
    "    agentId=agent_id,\n",
    "    agentVersion='DRAFT',\n",
    "    actionGroupId= action_group_id\n",
    ")"
   ]
  },
  {
   "cell_type": "code",
   "execution_count": null,
   "id": "6bb1ba93-39ee-46c4-80e0-07854eb9ca33",
   "metadata": {
    "tags": []
   },
   "outputs": [],
   "source": [
    "# Deleting the Agent\n",
    "agent_deletion = bedrock_agent_client.delete_agent(\n",
    "    agentId=agent_id\n",
    ")"
   ]
  },
  {
   "cell_type": "code",
   "execution_count": null,
   "id": "a0772672-35ff-4eb4-b0ec-0c0db1cc8797",
   "metadata": {
    "tags": []
   },
   "outputs": [],
   "source": [
    "# Deleting the Lambda function\n",
    "lambda_client.delete_function(\n",
    "    FunctionName=lambda_function_name\n",
    ")"
   ]
  },
  {
   "cell_type": "code",
   "execution_count": null,
   "id": "5dc0d7e0-b867-4e16-8f85-b7c7d95469d3",
   "metadata": {
    "tags": []
   },
   "outputs": [],
   "source": [
    "# Deleting the IAM Roles\n",
    "for policy in [agent_bedrock_allow_policy_name]:\n",
    "    iam_client.detach_role_policy(RoleName=agent_role_name, PolicyArn=f'arn:aws:iam::{account_id}:policy/{policy}')\n",
    "    \n",
    "iam_client.detach_role_policy(RoleName=lambda_function_role, PolicyArn='arn:aws:iam::aws:policy/service-role/AWSLambdaBasicExecutionRole')\n",
    "\n",
    "for role_name in [agent_role_name, lambda_function_role]:\n",
    "    iam_client.delete_role(\n",
    "        RoleName=role_name\n",
    "    )\n",
    "\n",
    "for policy in [agent_bedrock_policy]:\n",
    "    iam_client.delete_policy(\n",
    "        PolicyArn=policy['Policy']['Arn']\n",
    ")\n"
   ]
  },
  {
   "cell_type": "markdown",
   "id": "25e995a3-7842-4bcc-93e9-759b6b3b6722",
   "metadata": {},
   "source": [
    "## Remember to also delete the Jupyter Notebook if you no longer need it!"
   ]
  }
 ],
 "metadata": {
  "availableInstances": [
   {
    "_defaultOrder": 0,
    "_isFastLaunch": true,
    "category": "General purpose",
    "gpuNum": 0,
    "hideHardwareSpecs": false,
    "memoryGiB": 4,
    "name": "ml.t3.medium",
    "vcpuNum": 2
   },
   {
    "_defaultOrder": 1,
    "_isFastLaunch": false,
    "category": "General purpose",
    "gpuNum": 0,
    "hideHardwareSpecs": false,
    "memoryGiB": 8,
    "name": "ml.t3.large",
    "vcpuNum": 2
   },
   {
    "_defaultOrder": 2,
    "_isFastLaunch": false,
    "category": "General purpose",
    "gpuNum": 0,
    "hideHardwareSpecs": false,
    "memoryGiB": 16,
    "name": "ml.t3.xlarge",
    "vcpuNum": 4
   },
   {
    "_defaultOrder": 3,
    "_isFastLaunch": false,
    "category": "General purpose",
    "gpuNum": 0,
    "hideHardwareSpecs": false,
    "memoryGiB": 32,
    "name": "ml.t3.2xlarge",
    "vcpuNum": 8
   },
   {
    "_defaultOrder": 4,
    "_isFastLaunch": true,
    "category": "General purpose",
    "gpuNum": 0,
    "hideHardwareSpecs": false,
    "memoryGiB": 8,
    "name": "ml.m5.large",
    "vcpuNum": 2
   },
   {
    "_defaultOrder": 5,
    "_isFastLaunch": false,
    "category": "General purpose",
    "gpuNum": 0,
    "hideHardwareSpecs": false,
    "memoryGiB": 16,
    "name": "ml.m5.xlarge",
    "vcpuNum": 4
   },
   {
    "_defaultOrder": 6,
    "_isFastLaunch": false,
    "category": "General purpose",
    "gpuNum": 0,
    "hideHardwareSpecs": false,
    "memoryGiB": 32,
    "name": "ml.m5.2xlarge",
    "vcpuNum": 8
   },
   {
    "_defaultOrder": 7,
    "_isFastLaunch": false,
    "category": "General purpose",
    "gpuNum": 0,
    "hideHardwareSpecs": false,
    "memoryGiB": 64,
    "name": "ml.m5.4xlarge",
    "vcpuNum": 16
   },
   {
    "_defaultOrder": 8,
    "_isFastLaunch": false,
    "category": "General purpose",
    "gpuNum": 0,
    "hideHardwareSpecs": false,
    "memoryGiB": 128,
    "name": "ml.m5.8xlarge",
    "vcpuNum": 32
   },
   {
    "_defaultOrder": 9,
    "_isFastLaunch": false,
    "category": "General purpose",
    "gpuNum": 0,
    "hideHardwareSpecs": false,
    "memoryGiB": 192,
    "name": "ml.m5.12xlarge",
    "vcpuNum": 48
   },
   {
    "_defaultOrder": 10,
    "_isFastLaunch": false,
    "category": "General purpose",
    "gpuNum": 0,
    "hideHardwareSpecs": false,
    "memoryGiB": 256,
    "name": "ml.m5.16xlarge",
    "vcpuNum": 64
   },
   {
    "_defaultOrder": 11,
    "_isFastLaunch": false,
    "category": "General purpose",
    "gpuNum": 0,
    "hideHardwareSpecs": false,
    "memoryGiB": 384,
    "name": "ml.m5.24xlarge",
    "vcpuNum": 96
   },
   {
    "_defaultOrder": 12,
    "_isFastLaunch": false,
    "category": "General purpose",
    "gpuNum": 0,
    "hideHardwareSpecs": false,
    "memoryGiB": 8,
    "name": "ml.m5d.large",
    "vcpuNum": 2
   },
   {
    "_defaultOrder": 13,
    "_isFastLaunch": false,
    "category": "General purpose",
    "gpuNum": 0,
    "hideHardwareSpecs": false,
    "memoryGiB": 16,
    "name": "ml.m5d.xlarge",
    "vcpuNum": 4
   },
   {
    "_defaultOrder": 14,
    "_isFastLaunch": false,
    "category": "General purpose",
    "gpuNum": 0,
    "hideHardwareSpecs": false,
    "memoryGiB": 32,
    "name": "ml.m5d.2xlarge",
    "vcpuNum": 8
   },
   {
    "_defaultOrder": 15,
    "_isFastLaunch": false,
    "category": "General purpose",
    "gpuNum": 0,
    "hideHardwareSpecs": false,
    "memoryGiB": 64,
    "name": "ml.m5d.4xlarge",
    "vcpuNum": 16
   },
   {
    "_defaultOrder": 16,
    "_isFastLaunch": false,
    "category": "General purpose",
    "gpuNum": 0,
    "hideHardwareSpecs": false,
    "memoryGiB": 128,
    "name": "ml.m5d.8xlarge",
    "vcpuNum": 32
   },
   {
    "_defaultOrder": 17,
    "_isFastLaunch": false,
    "category": "General purpose",
    "gpuNum": 0,
    "hideHardwareSpecs": false,
    "memoryGiB": 192,
    "name": "ml.m5d.12xlarge",
    "vcpuNum": 48
   },
   {
    "_defaultOrder": 18,
    "_isFastLaunch": false,
    "category": "General purpose",
    "gpuNum": 0,
    "hideHardwareSpecs": false,
    "memoryGiB": 256,
    "name": "ml.m5d.16xlarge",
    "vcpuNum": 64
   },
   {
    "_defaultOrder": 19,
    "_isFastLaunch": false,
    "category": "General purpose",
    "gpuNum": 0,
    "hideHardwareSpecs": false,
    "memoryGiB": 384,
    "name": "ml.m5d.24xlarge",
    "vcpuNum": 96
   },
   {
    "_defaultOrder": 20,
    "_isFastLaunch": false,
    "category": "General purpose",
    "gpuNum": 0,
    "hideHardwareSpecs": true,
    "memoryGiB": 0,
    "name": "ml.geospatial.interactive",
    "supportedImageNames": [
     "sagemaker-geospatial-v1-0"
    ],
    "vcpuNum": 0
   },
   {
    "_defaultOrder": 21,
    "_isFastLaunch": true,
    "category": "Compute optimized",
    "gpuNum": 0,
    "hideHardwareSpecs": false,
    "memoryGiB": 4,
    "name": "ml.c5.large",
    "vcpuNum": 2
   },
   {
    "_defaultOrder": 22,
    "_isFastLaunch": false,
    "category": "Compute optimized",
    "gpuNum": 0,
    "hideHardwareSpecs": false,
    "memoryGiB": 8,
    "name": "ml.c5.xlarge",
    "vcpuNum": 4
   },
   {
    "_defaultOrder": 23,
    "_isFastLaunch": false,
    "category": "Compute optimized",
    "gpuNum": 0,
    "hideHardwareSpecs": false,
    "memoryGiB": 16,
    "name": "ml.c5.2xlarge",
    "vcpuNum": 8
   },
   {
    "_defaultOrder": 24,
    "_isFastLaunch": false,
    "category": "Compute optimized",
    "gpuNum": 0,
    "hideHardwareSpecs": false,
    "memoryGiB": 32,
    "name": "ml.c5.4xlarge",
    "vcpuNum": 16
   },
   {
    "_defaultOrder": 25,
    "_isFastLaunch": false,
    "category": "Compute optimized",
    "gpuNum": 0,
    "hideHardwareSpecs": false,
    "memoryGiB": 72,
    "name": "ml.c5.9xlarge",
    "vcpuNum": 36
   },
   {
    "_defaultOrder": 26,
    "_isFastLaunch": false,
    "category": "Compute optimized",
    "gpuNum": 0,
    "hideHardwareSpecs": false,
    "memoryGiB": 96,
    "name": "ml.c5.12xlarge",
    "vcpuNum": 48
   },
   {
    "_defaultOrder": 27,
    "_isFastLaunch": false,
    "category": "Compute optimized",
    "gpuNum": 0,
    "hideHardwareSpecs": false,
    "memoryGiB": 144,
    "name": "ml.c5.18xlarge",
    "vcpuNum": 72
   },
   {
    "_defaultOrder": 28,
    "_isFastLaunch": false,
    "category": "Compute optimized",
    "gpuNum": 0,
    "hideHardwareSpecs": false,
    "memoryGiB": 192,
    "name": "ml.c5.24xlarge",
    "vcpuNum": 96
   },
   {
    "_defaultOrder": 29,
    "_isFastLaunch": true,
    "category": "Accelerated computing",
    "gpuNum": 1,
    "hideHardwareSpecs": false,
    "memoryGiB": 16,
    "name": "ml.g4dn.xlarge",
    "vcpuNum": 4
   },
   {
    "_defaultOrder": 30,
    "_isFastLaunch": false,
    "category": "Accelerated computing",
    "gpuNum": 1,
    "hideHardwareSpecs": false,
    "memoryGiB": 32,
    "name": "ml.g4dn.2xlarge",
    "vcpuNum": 8
   },
   {
    "_defaultOrder": 31,
    "_isFastLaunch": false,
    "category": "Accelerated computing",
    "gpuNum": 1,
    "hideHardwareSpecs": false,
    "memoryGiB": 64,
    "name": "ml.g4dn.4xlarge",
    "vcpuNum": 16
   },
   {
    "_defaultOrder": 32,
    "_isFastLaunch": false,
    "category": "Accelerated computing",
    "gpuNum": 1,
    "hideHardwareSpecs": false,
    "memoryGiB": 128,
    "name": "ml.g4dn.8xlarge",
    "vcpuNum": 32
   },
   {
    "_defaultOrder": 33,
    "_isFastLaunch": false,
    "category": "Accelerated computing",
    "gpuNum": 4,
    "hideHardwareSpecs": false,
    "memoryGiB": 192,
    "name": "ml.g4dn.12xlarge",
    "vcpuNum": 48
   },
   {
    "_defaultOrder": 34,
    "_isFastLaunch": false,
    "category": "Accelerated computing",
    "gpuNum": 1,
    "hideHardwareSpecs": false,
    "memoryGiB": 256,
    "name": "ml.g4dn.16xlarge",
    "vcpuNum": 64
   },
   {
    "_defaultOrder": 35,
    "_isFastLaunch": false,
    "category": "Accelerated computing",
    "gpuNum": 1,
    "hideHardwareSpecs": false,
    "memoryGiB": 61,
    "name": "ml.p3.2xlarge",
    "vcpuNum": 8
   },
   {
    "_defaultOrder": 36,
    "_isFastLaunch": false,
    "category": "Accelerated computing",
    "gpuNum": 4,
    "hideHardwareSpecs": false,
    "memoryGiB": 244,
    "name": "ml.p3.8xlarge",
    "vcpuNum": 32
   },
   {
    "_defaultOrder": 37,
    "_isFastLaunch": false,
    "category": "Accelerated computing",
    "gpuNum": 8,
    "hideHardwareSpecs": false,
    "memoryGiB": 488,
    "name": "ml.p3.16xlarge",
    "vcpuNum": 64
   },
   {
    "_defaultOrder": 38,
    "_isFastLaunch": false,
    "category": "Accelerated computing",
    "gpuNum": 8,
    "hideHardwareSpecs": false,
    "memoryGiB": 768,
    "name": "ml.p3dn.24xlarge",
    "vcpuNum": 96
   },
   {
    "_defaultOrder": 39,
    "_isFastLaunch": false,
    "category": "Memory Optimized",
    "gpuNum": 0,
    "hideHardwareSpecs": false,
    "memoryGiB": 16,
    "name": "ml.r5.large",
    "vcpuNum": 2
   },
   {
    "_defaultOrder": 40,
    "_isFastLaunch": false,
    "category": "Memory Optimized",
    "gpuNum": 0,
    "hideHardwareSpecs": false,
    "memoryGiB": 32,
    "name": "ml.r5.xlarge",
    "vcpuNum": 4
   },
   {
    "_defaultOrder": 41,
    "_isFastLaunch": false,
    "category": "Memory Optimized",
    "gpuNum": 0,
    "hideHardwareSpecs": false,
    "memoryGiB": 64,
    "name": "ml.r5.2xlarge",
    "vcpuNum": 8
   },
   {
    "_defaultOrder": 42,
    "_isFastLaunch": false,
    "category": "Memory Optimized",
    "gpuNum": 0,
    "hideHardwareSpecs": false,
    "memoryGiB": 128,
    "name": "ml.r5.4xlarge",
    "vcpuNum": 16
   },
   {
    "_defaultOrder": 43,
    "_isFastLaunch": false,
    "category": "Memory Optimized",
    "gpuNum": 0,
    "hideHardwareSpecs": false,
    "memoryGiB": 256,
    "name": "ml.r5.8xlarge",
    "vcpuNum": 32
   },
   {
    "_defaultOrder": 44,
    "_isFastLaunch": false,
    "category": "Memory Optimized",
    "gpuNum": 0,
    "hideHardwareSpecs": false,
    "memoryGiB": 384,
    "name": "ml.r5.12xlarge",
    "vcpuNum": 48
   },
   {
    "_defaultOrder": 45,
    "_isFastLaunch": false,
    "category": "Memory Optimized",
    "gpuNum": 0,
    "hideHardwareSpecs": false,
    "memoryGiB": 512,
    "name": "ml.r5.16xlarge",
    "vcpuNum": 64
   },
   {
    "_defaultOrder": 46,
    "_isFastLaunch": false,
    "category": "Memory Optimized",
    "gpuNum": 0,
    "hideHardwareSpecs": false,
    "memoryGiB": 768,
    "name": "ml.r5.24xlarge",
    "vcpuNum": 96
   },
   {
    "_defaultOrder": 47,
    "_isFastLaunch": false,
    "category": "Accelerated computing",
    "gpuNum": 1,
    "hideHardwareSpecs": false,
    "memoryGiB": 16,
    "name": "ml.g5.xlarge",
    "vcpuNum": 4
   },
   {
    "_defaultOrder": 48,
    "_isFastLaunch": false,
    "category": "Accelerated computing",
    "gpuNum": 1,
    "hideHardwareSpecs": false,
    "memoryGiB": 32,
    "name": "ml.g5.2xlarge",
    "vcpuNum": 8
   },
   {
    "_defaultOrder": 49,
    "_isFastLaunch": false,
    "category": "Accelerated computing",
    "gpuNum": 1,
    "hideHardwareSpecs": false,
    "memoryGiB": 64,
    "name": "ml.g5.4xlarge",
    "vcpuNum": 16
   },
   {
    "_defaultOrder": 50,
    "_isFastLaunch": false,
    "category": "Accelerated computing",
    "gpuNum": 1,
    "hideHardwareSpecs": false,
    "memoryGiB": 128,
    "name": "ml.g5.8xlarge",
    "vcpuNum": 32
   },
   {
    "_defaultOrder": 51,
    "_isFastLaunch": false,
    "category": "Accelerated computing",
    "gpuNum": 1,
    "hideHardwareSpecs": false,
    "memoryGiB": 256,
    "name": "ml.g5.16xlarge",
    "vcpuNum": 64
   },
   {
    "_defaultOrder": 52,
    "_isFastLaunch": false,
    "category": "Accelerated computing",
    "gpuNum": 4,
    "hideHardwareSpecs": false,
    "memoryGiB": 192,
    "name": "ml.g5.12xlarge",
    "vcpuNum": 48
   },
   {
    "_defaultOrder": 53,
    "_isFastLaunch": false,
    "category": "Accelerated computing",
    "gpuNum": 4,
    "hideHardwareSpecs": false,
    "memoryGiB": 384,
    "name": "ml.g5.24xlarge",
    "vcpuNum": 96
   },
   {
    "_defaultOrder": 54,
    "_isFastLaunch": false,
    "category": "Accelerated computing",
    "gpuNum": 8,
    "hideHardwareSpecs": false,
    "memoryGiB": 768,
    "name": "ml.g5.48xlarge",
    "vcpuNum": 192
   },
   {
    "_defaultOrder": 55,
    "_isFastLaunch": false,
    "category": "Accelerated computing",
    "gpuNum": 8,
    "hideHardwareSpecs": false,
    "memoryGiB": 1152,
    "name": "ml.p4d.24xlarge",
    "vcpuNum": 96
   },
   {
    "_defaultOrder": 56,
    "_isFastLaunch": false,
    "category": "Accelerated computing",
    "gpuNum": 8,
    "hideHardwareSpecs": false,
    "memoryGiB": 1152,
    "name": "ml.p4de.24xlarge",
    "vcpuNum": 96
   },
   {
    "_defaultOrder": 57,
    "_isFastLaunch": false,
    "category": "Accelerated computing",
    "gpuNum": 0,
    "hideHardwareSpecs": false,
    "memoryGiB": 32,
    "name": "ml.trn1.2xlarge",
    "vcpuNum": 8
   },
   {
    "_defaultOrder": 58,
    "_isFastLaunch": false,
    "category": "Accelerated computing",
    "gpuNum": 0,
    "hideHardwareSpecs": false,
    "memoryGiB": 512,
    "name": "ml.trn1.32xlarge",
    "vcpuNum": 128
   },
   {
    "_defaultOrder": 59,
    "_isFastLaunch": false,
    "category": "Accelerated computing",
    "gpuNum": 0,
    "hideHardwareSpecs": false,
    "memoryGiB": 512,
    "name": "ml.trn1n.32xlarge",
    "vcpuNum": 128
   }
  ],
  "instance_type": "ml.t3.medium",
  "kernelspec": {
   "display_name": "conda_python3",
   "language": "python",
   "name": "conda_python3"
  },
  "language_info": {
   "codemirror_mode": {
    "name": "ipython",
    "version": 3
   },
   "file_extension": ".py",
   "mimetype": "text/x-python",
   "name": "python",
   "nbconvert_exporter": "python",
   "pygments_lexer": "ipython3",
   "version": "3.10.16"
  }
 },
 "nbformat": 4,
 "nbformat_minor": 5
}
