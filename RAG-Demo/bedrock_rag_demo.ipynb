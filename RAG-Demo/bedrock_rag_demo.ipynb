{
 "cells": [
  {
   "cell_type": "markdown",
   "id": "ed5da7a1-0c82-4ae9-8f2c-d9de642db328",
   "metadata": {
    "tags": []
   },
   "source": [
    "# Configuring Amazon Bedrock boto3 Prerequisites\n",
    "\n",
    "> *Complete all steps in us-west-1. \n",
    "Use this notebook with the  **`conda_tensorflow2_p310`** kernel in SageMaker Notebooks*\n",
    "\n",
    "---\n",
    "Make sure you have requested access for Claude 3 models in Bedrock.\n",
    "\n",
    "After completing the steps, be sure to perform the clean up steps at the end to avoid unnecessary charges. \n",
    "Total cost should be a few $ if everything is terminated afterwards. Be sure to delete the SageMaker notebook at the end if no longer needed. \n",
    "\n",
    "---"
   ]
  },
  {
   "cell_type": "markdown",
   "id": "4c180183-a400-4c79-a716-1f1aab0aae09",
   "metadata": {
    "tags": []
   },
   "source": [
    "### Install Required Libraries\n",
    "Install required libraries like boto3, which is the AWS SDK for Python that interacts with Bedrock. And opensearch-py which is the Python client used to interact with OpenSearch."
   ]
  },
  {
   "cell_type": "code",
   "execution_count": 1,
   "id": "11e37e6b-fbfc-4f52-a37b-96551dad6fea",
   "metadata": {
    "tags": []
   },
   "outputs": [
    {
     "name": "stdout",
     "output_type": "stream",
     "text": [
      "Collecting opensearch-py==2.3.1\n",
      "  Downloading opensearch_py-2.3.1-py2.py3-none-any.whl.metadata (6.9 kB)\n",
      "Requirement already satisfied: urllib3<2,>=1.21.1 in /home/ec2-user/anaconda3/envs/tensorflow2_p310/lib/python3.10/site-packages (from opensearch-py==2.3.1) (1.26.19)\n",
      "Requirement already satisfied: requests<3.0.0,>=2.4.0 in /home/ec2-user/anaconda3/envs/tensorflow2_p310/lib/python3.10/site-packages (from opensearch-py==2.3.1) (2.32.3)\n",
      "Requirement already satisfied: six in /home/ec2-user/anaconda3/envs/tensorflow2_p310/lib/python3.10/site-packages (from opensearch-py==2.3.1) (1.17.0)\n",
      "Requirement already satisfied: python-dateutil in /home/ec2-user/anaconda3/envs/tensorflow2_p310/lib/python3.10/site-packages (from opensearch-py==2.3.1) (2.9.0)\n",
      "Requirement already satisfied: certifi>=2022.12.07 in /home/ec2-user/anaconda3/envs/tensorflow2_p310/lib/python3.10/site-packages (from opensearch-py==2.3.1) (2024.12.14)\n",
      "Requirement already satisfied: charset_normalizer<4,>=2 in /home/ec2-user/anaconda3/envs/tensorflow2_p310/lib/python3.10/site-packages (from requests<3.0.0,>=2.4.0->opensearch-py==2.3.1) (3.4.1)\n",
      "Requirement already satisfied: idna<4,>=2.5 in /home/ec2-user/anaconda3/envs/tensorflow2_p310/lib/python3.10/site-packages (from requests<3.0.0,>=2.4.0->opensearch-py==2.3.1) (3.10)\n",
      "Downloading opensearch_py-2.3.1-py2.py3-none-any.whl (327 kB)\n",
      "Installing collected packages: opensearch-py\n",
      "Successfully installed opensearch-py-2.3.1\n",
      "Note: you may need to restart the kernel to use updated packages.\n",
      "Collecting boto3==1.33.2\n",
      "  Downloading boto3-1.33.2-py3-none-any.whl.metadata (6.7 kB)\n",
      "Collecting botocore<1.34.0,>=1.33.2 (from boto3==1.33.2)\n",
      "  Downloading botocore-1.33.13-py3-none-any.whl.metadata (6.1 kB)\n",
      "Requirement already satisfied: jmespath<2.0.0,>=0.7.1 in /home/ec2-user/anaconda3/envs/tensorflow2_p310/lib/python3.10/site-packages (from boto3==1.33.2) (1.0.1)\n",
      "Collecting s3transfer<0.9.0,>=0.8.0 (from boto3==1.33.2)\n",
      "  Downloading s3transfer-0.8.2-py3-none-any.whl.metadata (1.8 kB)\n",
      "Requirement already satisfied: python-dateutil<3.0.0,>=2.1 in /home/ec2-user/anaconda3/envs/tensorflow2_p310/lib/python3.10/site-packages (from botocore<1.34.0,>=1.33.2->boto3==1.33.2) (2.9.0)\n",
      "Requirement already satisfied: urllib3<2.1,>=1.25.4 in /home/ec2-user/anaconda3/envs/tensorflow2_p310/lib/python3.10/site-packages (from botocore<1.34.0,>=1.33.2->boto3==1.33.2) (1.26.19)\n",
      "Requirement already satisfied: six>=1.5 in /home/ec2-user/anaconda3/envs/tensorflow2_p310/lib/python3.10/site-packages (from python-dateutil<3.0.0,>=2.1->botocore<1.34.0,>=1.33.2->boto3==1.33.2) (1.17.0)\n",
      "Downloading boto3-1.33.2-py3-none-any.whl (139 kB)\n",
      "Downloading botocore-1.33.13-py3-none-any.whl (11.8 MB)\n",
      "\u001b[2K   \u001b[90m━━━━━━━━━━━━━━━━━━━━━━━━━━━━━━━━━━━━━━━━\u001b[0m \u001b[32m11.8/11.8 MB\u001b[0m \u001b[31m155.5 MB/s\u001b[0m eta \u001b[36m0:00:00\u001b[0m\n",
      "\u001b[?25hDownloading s3transfer-0.8.2-py3-none-any.whl (82 kB)\n",
      "Installing collected packages: botocore, s3transfer, boto3\n",
      "  Attempting uninstall: botocore\n",
      "    Found existing installation: botocore 1.36.2\n",
      "    Uninstalling botocore-1.36.2:\n",
      "      Successfully uninstalled botocore-1.36.2\n",
      "  Attempting uninstall: s3transfer\n",
      "    Found existing installation: s3transfer 0.11.1\n",
      "    Uninstalling s3transfer-0.11.1:\n",
      "      Successfully uninstalled s3transfer-0.11.1\n",
      "  Attempting uninstall: boto3\n",
      "    Found existing installation: boto3 1.36.2\n",
      "    Uninstalling boto3-1.36.2:\n",
      "      Successfully uninstalled boto3-1.36.2\n",
      "\u001b[31mERROR: pip's dependency resolver does not currently take into account all the packages that are installed. This behaviour is the source of the following dependency conflicts.\n",
      "aiobotocore 2.18.0 requires botocore<1.36.2,>=1.36.0, but you have botocore 1.33.13 which is incompatible.\n",
      "awscli 1.37.2 requires botocore==1.36.2, but you have botocore 1.33.13 which is incompatible.\n",
      "awscli 1.37.2 requires s3transfer<0.12.0,>=0.11.0, but you have s3transfer 0.8.2 which is incompatible.\n",
      "sagemaker 2.237.3 requires boto3<2.0,>=1.35.75, but you have boto3 1.33.2 which is incompatible.\n",
      "sagemaker-core 1.0.18 requires boto3<2.0.0,>=1.35.75, but you have boto3 1.33.2 which is incompatible.\u001b[0m\u001b[31m\n",
      "\u001b[0mSuccessfully installed boto3-1.33.2 botocore-1.33.13 s3transfer-0.8.2\n",
      "Note: you may need to restart the kernel to use updated packages.\n",
      "Collecting retrying==1.3.4\n",
      "  Downloading retrying-1.3.4-py3-none-any.whl.metadata (6.9 kB)\n",
      "Requirement already satisfied: six>=1.7.0 in /home/ec2-user/anaconda3/envs/tensorflow2_p310/lib/python3.10/site-packages (from retrying==1.3.4) (1.17.0)\n",
      "Downloading retrying-1.3.4-py3-none-any.whl (11 kB)\n",
      "Installing collected packages: retrying\n",
      "Successfully installed retrying-1.3.4\n",
      "Note: you may need to restart the kernel to use updated packages.\n"
     ]
    }
   ],
   "source": [
    "%pip install -U opensearch-py==2.3.1\n",
    "%pip install -U boto3==1.33.2\n",
    "%pip install -U retrying==1.3.4"
   ]
  },
  {
   "cell_type": "code",
   "execution_count": 2,
   "id": "4fffb9ac-f15d-46d9-a27c-9666073ed6f1",
   "metadata": {
    "tags": []
   },
   "outputs": [
    {
     "data": {
      "text/html": [
       "<script>Jupyter.notebook.kernel.restart()</script>"
      ],
      "text/plain": [
       "<IPython.core.display.HTML object>"
      ]
     },
     "execution_count": 2,
     "metadata": {},
     "output_type": "execute_result"
    }
   ],
   "source": [
    "# restart kernel\n",
    "from IPython.core.display import HTML\n",
    "HTML(\"<script>Jupyter.notebook.kernel.restart()</script>\")"
   ]
  },
  {
   "cell_type": "markdown",
   "id": "2686afc3-6ea3-4e13-a0d4-838b3c7738e6",
   "metadata": {
    "tags": []
   },
   "source": [
    "### Create the S3 Bucket\n",
    "Import the required libraries, and set our variables.\n",
    "Create an S3 bucket to store our custom data."
   ]
  },
  {
   "cell_type": "code",
   "execution_count": 3,
   "id": "e3dc4d86-3760-435b-be1d-4ec85d6c6741",
   "metadata": {
    "tags": []
   },
   "outputs": [],
   "source": [
    "import warnings\n",
    "warnings.filterwarnings('ignore')"
   ]
  },
  {
   "cell_type": "code",
   "execution_count": 4,
   "id": "978cd811-ea97-4453-a673-4c9f86ff5d77",
   "metadata": {
    "tags": []
   },
   "outputs": [],
   "source": [
    "import json\n",
    "import os\n",
    "import boto3\n",
    "from botocore.exceptions import ClientError\n",
    "import pprint\n",
    "from utility import create_bedrock_execution_role, create_oss_policy_attach_bedrock_execution_role, create_policies_in_oss, interactive_sleep\n",
    "import random\n",
    "from retrying import retry\n",
    "suffix = random.randrange(200, 900)\n",
    "\n",
    "sts_client = boto3.client('sts')\n",
    "boto3_session = boto3.session.Session()\n",
    "region_name = boto3_session.region_name\n",
    "bedrock_agent_client = boto3_session.client('bedrock-agent', region_name=region_name)\n",
    "service = 'aoss'\n",
    "s3_client = boto3.client('s3')\n",
    "s3_suffix = f\"{region_name}-faye-123\"  # replace with your name and some random numbers.\n",
    "bucket_name = f'bedrock-kb-{s3_suffix}' # replace it with your bucket name.\n",
    "pp = pprint.PrettyPrinter(indent=2)"
   ]
  },
  {
   "cell_type": "code",
   "execution_count": 6,
   "id": "45693a18-a8b7-4275-856e-4c989850f217",
   "metadata": {
    "tags": []
   },
   "outputs": [
    {
     "name": "stdout",
     "output_type": "stream",
     "text": [
      "Bucket name:bedrock-kb-us-east-1-faye-123\n"
     ]
    }
   ],
   "source": [
    "# Create S3 bucket for the knowledge base data source \n",
    "try:\n",
    "    s3_client.head_bucket(Bucket=bucket_name)\n",
    "    print(f'Bucket {bucket_name} Exists')\n",
    "except ClientError as e:\n",
    "    print(f'Bucket name:{bucket_name}')\n",
    "    s3bucket = s3_client.create_bucket(\n",
    "        Bucket=bucket_name,\n",
    "    )"
   ]
  },
  {
   "cell_type": "markdown",
   "id": "1728ef58-8432-43c0-8883-d5acd4555ae8",
   "metadata": {
    "tags": []
   },
   "source": [
    "### After the S3 Bucket is created, upload the data you want to use to the S3 bucket. You can use this dummy data: https://github.com/pluralsight-cloud/amazon-bedrock-building-genai-applications/blob/main/RAG-Demo/Human%20Resources%20Policy.docx"
   ]
  },
  {
   "cell_type": "markdown",
   "id": "a1fa470d-22c6-4352-b75e-cc8c36225e0e",
   "metadata": {
    "tags": []
   },
   "source": [
    "### Create the OSS Collection\n",
    "Create the OpenSearch Serverless collection which is a container for OpenSearch indexes."
   ]
  },
  {
   "cell_type": "code",
   "execution_count": 7,
   "id": "ba6cabb3-e242-4251-b81c-9d5e79443674",
   "metadata": {
    "tags": []
   },
   "outputs": [],
   "source": [
    "import boto3\n",
    "import time\n",
    "vector_store_name = f'bedrock-sample-rag-{suffix}'\n",
    "index_name = f\"bedrock-sample-rag-index-{suffix}\"\n",
    "aoss_client = boto3_session.client('opensearchserverless')\n",
    "bedrock_kb_execution_role = create_bedrock_execution_role(bucket_name=bucket_name)\n",
    "bedrock_kb_execution_role_arn = bedrock_kb_execution_role['Role']['Arn']"
   ]
  },
  {
   "cell_type": "code",
   "execution_count": 8,
   "id": "8218a0a5-295e-42ab-bd3d-52a725b2178a",
   "metadata": {
    "tags": []
   },
   "outputs": [],
   "source": [
    "# create security, network and data access policies for OSS\n",
    "encryption_policy, network_policy, access_policy = create_policies_in_oss(vector_store_name=vector_store_name,\n",
    "                       aoss_client=aoss_client,\n",
    "                       bedrock_kb_execution_role_arn=bedrock_kb_execution_role_arn)\n",
    "collection = aoss_client.create_collection(name=vector_store_name,type='VECTORSEARCH')"
   ]
  },
  {
   "cell_type": "code",
   "execution_count": 9,
   "id": "85e87d9f-dcac-46ff-9e51-fb747fa05bdb",
   "metadata": {
    "tags": []
   },
   "outputs": [
    {
     "name": "stdout",
     "output_type": "stream",
     "text": [
      "02ews76qmc68hnt0pfui.us-east-1.aoss.amazonaws.com\n"
     ]
    }
   ],
   "source": [
    "# Get the OpenSearch serverless collection URL\n",
    "collection_id = collection['createCollectionDetail']['id']\n",
    "host = collection_id + '.' + region_name + '.aoss.amazonaws.com'\n",
    "print(host)"
   ]
  },
  {
   "cell_type": "code",
   "execution_count": 10,
   "id": "fd824bbc-eb03-4a13-9321-0be19e4ae257",
   "metadata": {
    "tags": []
   },
   "outputs": [
    {
     "name": "stdout",
     "output_type": "stream",
     "text": [
      "Creating collection...\n",
      "Done!.........................\n",
      "\n",
      "Collection successfully created:\n",
      "[ { 'arn': 'arn:aws:aoss:us-east-1:548734566896:collection/02ews76qmc68hnt0pfui',\n",
      "    'collectionEndpoint': 'https://02ews76qmc68hnt0pfui.us-east-1.aoss.amazonaws.com',\n",
      "    'createdDate': 1738771594466,\n",
      "    'dashboardEndpoint': 'https://02ews76qmc68hnt0pfui.us-east-1.aoss.amazonaws.com/_dashboards',\n",
      "    'id': '02ews76qmc68hnt0pfui',\n",
      "    'kmsKeyArn': 'auto',\n",
      "    'lastModifiedDate': 1738771620993,\n",
      "    'name': 'bedrock-sample-rag-499',\n",
      "    'standbyReplicas': 'ENABLED',\n",
      "    'status': 'ACTIVE',\n",
      "    'type': 'VECTORSEARCH'}]\n"
     ]
    }
   ],
   "source": [
    "# Wait for collection creation to complete\n",
    "# This can take a few minutes\n",
    "response = aoss_client.batch_get_collection(names=[vector_store_name])\n",
    "# Periodically check collection status\n",
    "while (response['collectionDetails'][0]['status']) == 'CREATING':\n",
    "    print('Creating collection...')\n",
    "    interactive_sleep(30)\n",
    "    response = aoss_client.batch_get_collection(names=[vector_store_name])\n",
    "print('\\nCollection successfully created:')\n",
    "pp.pprint(response[\"collectionDetails\"])"
   ]
  },
  {
   "cell_type": "code",
   "execution_count": 11,
   "id": "58f41bad-21e8-4b31-b811-adf83f246732",
   "metadata": {
    "tags": []
   },
   "outputs": [
    {
     "name": "stdout",
     "output_type": "stream",
     "text": [
      "Opensearch serverless arn:  arn:aws:iam::548734566896:policy/AmazonBedrockOSSPolicyForKnowledgeBase_357\n",
      "Done!.......................................................\n"
     ]
    }
   ],
   "source": [
    "# create opensearch serverless access policy and attach it to Bedrock execution role\n",
    "try:\n",
    "    create_oss_policy_attach_bedrock_execution_role(collection_id=collection_id,\n",
    "                                                    bedrock_kb_execution_role=bedrock_kb_execution_role)\n",
    "    # It can take up to a minute for data access rules to be enforced\n",
    "    interactive_sleep(60)\n",
    "except Exception as e:\n",
    "    print(\"Policy already exists\")\n",
    "    pp.pprint(e)"
   ]
  },
  {
   "cell_type": "markdown",
   "id": "814674b5-f519-475c-afe0-98492bf97094",
   "metadata": {
    "tags": []
   },
   "source": [
    "### Create the OSS Vector Index\n",
    "This will contain the vector embeddings, or numerical representations of our data. So that the Bedrock can make sense of our data, and understand the meaning it contains."
   ]
  },
  {
   "cell_type": "code",
   "execution_count": 12,
   "id": "9feb6175-7ab2-4913-ba5e-d4c25f5299ca",
   "metadata": {
    "tags": []
   },
   "outputs": [],
   "source": [
    "# Configure the OpenSearch Serverless vector index\n",
    "from opensearchpy import OpenSearch, RequestsHttpConnection, AWSV4SignerAuth, RequestError\n",
    "credentials = boto3.Session().get_credentials()\n",
    "awsauth = auth = AWSV4SignerAuth(credentials, region_name, service)\n",
    "\n",
    "index_name = f\"bedrock-sample-index-{suffix}\"\n",
    "body_json = {\n",
    "   \"settings\": {\n",
    "      \"index.knn\": \"true\",\n",
    "       \"number_of_shards\": 1,\n",
    "       \"knn.algo_param.ef_search\": 512,\n",
    "       \"number_of_replicas\": 0,\n",
    "   },\n",
    "   \"mappings\": {\n",
    "      \"properties\": {\n",
    "         \"vector\": {\n",
    "            \"type\": \"knn_vector\",\n",
    "            \"dimension\": 1536,\n",
    "             \"method\": {\n",
    "                 \"name\": \"hnsw\",\n",
    "                 \"engine\": \"faiss\",\n",
    "                 \"space_type\": \"l2\"\n",
    "             },\n",
    "         },\n",
    "         \"text\": {\n",
    "            \"type\": \"text\"\n",
    "         },\n",
    "         \"text-metadata\": {\n",
    "            \"type\": \"text\"         }\n",
    "      }\n",
    "   }\n",
    "}\n",
    "\n",
    "# Build the OpenSearch client\n",
    "oss_client = OpenSearch(\n",
    "    hosts=[{'host': host, 'port': 443}],\n",
    "    http_auth=awsauth,\n",
    "    use_ssl=True,\n",
    "    verify_certs=True,\n",
    "    connection_class=RequestsHttpConnection,\n",
    "    timeout=300\n",
    ")"
   ]
  },
  {
   "cell_type": "code",
   "execution_count": 13,
   "id": "ec860967-a7c8-4ba2-b6ea-3e949e2fef50",
   "metadata": {
    "tags": []
   },
   "outputs": [
    {
     "name": "stdout",
     "output_type": "stream",
     "text": [
      "\n",
      "Creating index:\n",
      "{ 'acknowledged': True,\n",
      "  'index': 'bedrock-sample-index-499',\n",
      "  'shards_acknowledged': True}\n",
      "Done!.......................................................\n"
     ]
    }
   ],
   "source": [
    "# Create index\n",
    "try:\n",
    "    response = oss_client.indices.create(index=index_name, body=json.dumps(body_json))\n",
    "    print('\\nCreating index:')\n",
    "    pp.pprint(response)\n",
    "\n",
    "    # index creation can take up to a minute\n",
    "    interactive_sleep(60)\n",
    "except RequestError as e:\n",
    "    print(f'Error while trying to create the index, with error {e.error}\\nyou may unmark the delete above to delete, and recreate the index')"
   ]
  },
  {
   "cell_type": "markdown",
   "id": "f3b4cf2f-0fc4-4d37-8c48-150560c22aad",
   "metadata": {
    "tags": []
   },
   "source": [
    "### Create The Knowledge Base and Ingest Data \n",
    "Configure the Bedrock Knowledge Base using the OpenSearch Serverless vector index. \n",
    "Data source will be our S3 bucket."
   ]
  },
  {
   "cell_type": "code",
   "execution_count": 14,
   "id": "2548ef5a-c72e-4119-a9b2-3148cd3c960b",
   "metadata": {
    "tags": []
   },
   "outputs": [],
   "source": [
    "# After uploading your data to the private S3 bucket, create the Knowledge Base\n",
    "opensearchServerlessConfiguration = {\n",
    "            \"collectionArn\": collection[\"createCollectionDetail\"]['arn'],\n",
    "            \"vectorIndexName\": index_name,\n",
    "            \"fieldMapping\": {\n",
    "                \"vectorField\": \"vector\",\n",
    "                \"textField\": \"text\",\n",
    "                \"metadataField\": \"text-metadata\"\n",
    "            }\n",
    "        }\n",
    "\n",
    "# Ingest strategy to ingest data from the data source\n",
    "chunkingStrategyConfiguration = {\n",
    "    \"chunkingStrategy\": \"FIXED_SIZE\",\n",
    "    \"fixedSizeChunkingConfiguration\": {\n",
    "        \"maxTokens\": 512,\n",
    "        \"overlapPercentage\": 20\n",
    "    }\n",
    "}\n",
    "\n",
    "# The data source to ingest documents from, into the OpenSearch serverless knowledge base index\n",
    "s3Configuration = {\n",
    "    \"bucketArn\": f\"arn:aws:s3:::{bucket_name}\",\n",
    "    \n",
    "}\n",
    "\n",
    "# The embedding model used by Bedrock to embed ingested documents, and real time prompts\n",
    "embeddingModelArn = f\"arn:aws:bedrock:{region_name}::foundation-model/amazon.titan-embed-text-v1\"\n",
    "\n",
    "name = f\"bedrock-sample-knowledge-base-{suffix}\"\n",
    "description = \"My custom data knowledge base.\"\n",
    "roleArn = bedrock_kb_execution_role_arn"
   ]
  },
  {
   "cell_type": "code",
   "execution_count": 15,
   "id": "0f839da0-6b35-4cf6-87a4-c5e566670cbc",
   "metadata": {
    "tags": []
   },
   "outputs": [],
   "source": [
    "# Create a Knowledge Base\n",
    "from retrying import retry\n",
    "\n",
    "@retry(wait_random_min=1000, wait_random_max=2000,stop_max_attempt_number=7)\n",
    "def create_knowledge_base_func():\n",
    "    create_kb_response = bedrock_agent_client.create_knowledge_base(\n",
    "        name = name,\n",
    "        description = description,\n",
    "        roleArn = roleArn,\n",
    "        knowledgeBaseConfiguration = {\n",
    "            \"type\": \"VECTOR\",\n",
    "            \"vectorKnowledgeBaseConfiguration\": {\n",
    "                \"embeddingModelArn\": embeddingModelArn\n",
    "            }\n",
    "        },\n",
    "        storageConfiguration = {\n",
    "            \"type\": \"OPENSEARCH_SERVERLESS\",\n",
    "            \"opensearchServerlessConfiguration\":opensearchServerlessConfiguration\n",
    "        }\n",
    "    )\n",
    "    return create_kb_response[\"knowledgeBase\"]"
   ]
  },
  {
   "cell_type": "code",
   "execution_count": 16,
   "id": "5e37cbf7-a5f8-4fe4-8452-0eebdc31bd97",
   "metadata": {
    "tags": []
   },
   "outputs": [],
   "source": [
    "try:\n",
    "    kb = create_knowledge_base_func()\n",
    "except Exception as err:\n",
    "    print(f\"{err=}, {type(err)=}\")"
   ]
  },
  {
   "cell_type": "code",
   "execution_count": 17,
   "id": "5e7763aa-8bbf-4f43-a0c3-e59306aa18f7",
   "metadata": {
    "tags": []
   },
   "outputs": [
    {
     "name": "stdout",
     "output_type": "stream",
     "text": [
      "{ 'createdAt': datetime.datetime(2025, 2, 5, 16, 18, 28, 627954, tzinfo=tzlocal()),\n",
      "  'description': 'My custom data knowledge base.',\n",
      "  'knowledgeBaseArn': 'arn:aws:bedrock:us-east-1:548734566896:knowledge-base/RQ428EHTVD',\n",
      "  'knowledgeBaseConfiguration': { 'type': 'VECTOR',\n",
      "                                  'vectorKnowledgeBaseConfiguration': { 'embeddingModelArn': 'arn:aws:bedrock:us-east-1::foundation-model/amazon.titan-embed-text-v1'}},\n",
      "  'knowledgeBaseId': 'RQ428EHTVD',\n",
      "  'name': 'bedrock-sample-knowledge-base-499',\n",
      "  'roleArn': 'arn:aws:iam::548734566896:role/AmazonBedrockExecutionRoleForKnowledgeBase_357',\n",
      "  'status': 'CREATING',\n",
      "  'storageConfiguration': { 'opensearchServerlessConfiguration': { 'collectionArn': 'arn:aws:aoss:us-east-1:548734566896:collection/02ews76qmc68hnt0pfui',\n",
      "                                                                   'fieldMapping': { 'metadataField': 'text-metadata',\n",
      "                                                                                     'textField': 'text',\n",
      "                                                                                     'vectorField': 'vector'},\n",
      "                                                                   'vectorIndexName': 'bedrock-sample-index-499'},\n",
      "                            'type': 'OPENSEARCH_SERVERLESS'},\n",
      "  'updatedAt': datetime.datetime(2025, 2, 5, 16, 18, 28, 627954, tzinfo=tzlocal())}\n"
     ]
    }
   ],
   "source": [
    "pp.pprint(kb)"
   ]
  },
  {
   "cell_type": "code",
   "execution_count": 18,
   "id": "dbd5b9c5-b52f-47f4-8bfa-c5b7fffa0924",
   "metadata": {
    "tags": []
   },
   "outputs": [],
   "source": [
    "# Get Knowledge Base \n",
    "get_kb_response = bedrock_agent_client.get_knowledge_base(knowledgeBaseId = kb['knowledgeBaseId'])"
   ]
  },
  {
   "cell_type": "code",
   "execution_count": 19,
   "id": "2e8702a5-e623-4d08-9aa2-31df6317d2f9",
   "metadata": {
    "tags": []
   },
   "outputs": [
    {
     "name": "stdout",
     "output_type": "stream",
     "text": [
      "{ 'createdAt': datetime.datetime(2025, 2, 5, 16, 18, 42, 178443, tzinfo=tzlocal()),\n",
      "  'dataSourceConfiguration': { 's3Configuration': { 'bucketArn': 'arn:aws:s3:::bedrock-kb-us-east-1-faye-123'},\n",
      "                               'type': 'S3'},\n",
      "  'dataSourceId': '52QGFVQQ0S',\n",
      "  'description': 'My custom data knowledge base.',\n",
      "  'knowledgeBaseId': 'RQ428EHTVD',\n",
      "  'name': 'bedrock-sample-knowledge-base-499',\n",
      "  'status': 'AVAILABLE',\n",
      "  'updatedAt': datetime.datetime(2025, 2, 5, 16, 18, 42, 178443, tzinfo=tzlocal()),\n",
      "  'vectorIngestionConfiguration': { 'chunkingConfiguration': { 'chunkingStrategy': 'FIXED_SIZE',\n",
      "                                                               'fixedSizeChunkingConfiguration': { 'maxTokens': 512,\n",
      "                                                                                                   'overlapPercentage': 20}}}}\n"
     ]
    }
   ],
   "source": [
    "# Create a DataSource in Knowledge Base \n",
    "create_ds_response = bedrock_agent_client.create_data_source(\n",
    "    name = name,\n",
    "    description = description,\n",
    "    knowledgeBaseId = kb['knowledgeBaseId'],\n",
    "    dataSourceConfiguration = {\n",
    "        \"type\": \"S3\",\n",
    "        \"s3Configuration\":s3Configuration\n",
    "    },\n",
    "    vectorIngestionConfiguration = {\n",
    "        \"chunkingConfiguration\": chunkingStrategyConfiguration\n",
    "    }\n",
    ")\n",
    "ds = create_ds_response[\"dataSource\"]\n",
    "pp.pprint(ds)"
   ]
  },
  {
   "cell_type": "code",
   "execution_count": 20,
   "id": "92836ef2-c0b0-4692-9691-6460ac5d5a7e",
   "metadata": {
    "tags": []
   },
   "outputs": [
    {
     "data": {
      "text/plain": [
       "{'ResponseMetadata': {'RequestId': '0f76331a-5948-44f1-9454-4e75e048a199',\n",
       "  'HTTPStatusCode': 200,\n",
       "  'HTTPHeaders': {'date': 'Wed, 05 Feb 2025 16:18:46 GMT',\n",
       "   'content-type': 'application/json',\n",
       "   'content-length': '588',\n",
       "   'connection': 'keep-alive',\n",
       "   'x-amzn-requestid': '0f76331a-5948-44f1-9454-4e75e048a199',\n",
       "   'x-amz-apigw-id': 'FhNYFEQ4IAMEu6g=',\n",
       "   'x-amzn-trace-id': 'Root=1-67a38f66-7066b1c64cdd3a8d4040bef4'},\n",
       "  'RetryAttempts': 0},\n",
       " 'dataSource': {'knowledgeBaseId': 'RQ428EHTVD',\n",
       "  'dataSourceId': '52QGFVQQ0S',\n",
       "  'name': 'bedrock-sample-knowledge-base-499',\n",
       "  'status': 'AVAILABLE',\n",
       "  'description': 'My custom data knowledge base.',\n",
       "  'dataSourceConfiguration': {'type': 'S3',\n",
       "   's3Configuration': {'bucketArn': 'arn:aws:s3:::bedrock-kb-us-east-1-faye-123'}},\n",
       "  'vectorIngestionConfiguration': {'chunkingConfiguration': {'chunkingStrategy': 'FIXED_SIZE',\n",
       "    'fixedSizeChunkingConfiguration': {'maxTokens': 512,\n",
       "     'overlapPercentage': 20}}},\n",
       "  'createdAt': datetime.datetime(2025, 2, 5, 16, 18, 42, 178443, tzinfo=tzlocal()),\n",
       "  'updatedAt': datetime.datetime(2025, 2, 5, 16, 18, 42, 178443, tzinfo=tzlocal())}}"
      ]
     },
     "execution_count": 20,
     "metadata": {},
     "output_type": "execute_result"
    }
   ],
   "source": [
    "# Get Data Source \n",
    "bedrock_agent_client.get_data_source(knowledgeBaseId = kb['knowledgeBaseId'], dataSourceId = ds[\"dataSourceId\"])"
   ]
  },
  {
   "cell_type": "code",
   "execution_count": 21,
   "id": "29fc67e4-d67e-4242-8e78-cf4829358c64",
   "metadata": {
    "tags": []
   },
   "outputs": [],
   "source": [
    "# Start ingestion job\n",
    "start_job_response = bedrock_agent_client.start_ingestion_job(knowledgeBaseId = kb['knowledgeBaseId'], dataSourceId = ds[\"dataSourceId\"])"
   ]
  },
  {
   "cell_type": "code",
   "execution_count": 22,
   "id": "3966f4ab-1d56-4a90-a657-f9028ef796b4",
   "metadata": {
    "tags": []
   },
   "outputs": [
    {
     "name": "stdout",
     "output_type": "stream",
     "text": [
      "{ 'dataSourceId': '52QGFVQQ0S',\n",
      "  'ingestionJobId': 'VEZOZQSSJX',\n",
      "  'knowledgeBaseId': 'RQ428EHTVD',\n",
      "  'startedAt': datetime.datetime(2025, 2, 5, 16, 18, 53, 674512, tzinfo=tzlocal()),\n",
      "  'statistics': { 'numberOfDocumentsDeleted': 0,\n",
      "                  'numberOfDocumentsFailed': 0,\n",
      "                  'numberOfDocumentsScanned': 0,\n",
      "                  'numberOfModifiedDocumentsIndexed': 0,\n",
      "                  'numberOfNewDocumentsIndexed': 0},\n",
      "  'status': 'STARTING',\n",
      "  'updatedAt': datetime.datetime(2025, 2, 5, 16, 18, 53, 674512, tzinfo=tzlocal())}\n"
     ]
    }
   ],
   "source": [
    "job = start_job_response[\"ingestionJob\"]\n",
    "pp.pprint(job)"
   ]
  },
  {
   "cell_type": "code",
   "execution_count": 23,
   "id": "57b0eabf-5a25-44c1-a81f-7170f9932b40",
   "metadata": {
    "tags": []
   },
   "outputs": [
    {
     "name": "stdout",
     "output_type": "stream",
     "text": [
      "{ 'dataSourceId': '52QGFVQQ0S',\n",
      "  'ingestionJobId': 'VEZOZQSSJX',\n",
      "  'knowledgeBaseId': 'RQ428EHTVD',\n",
      "  'startedAt': datetime.datetime(2025, 2, 5, 16, 18, 53, 674512, tzinfo=tzlocal()),\n",
      "  'statistics': { 'numberOfDocumentsDeleted': 0,\n",
      "                  'numberOfDocumentsFailed': 0,\n",
      "                  'numberOfDocumentsScanned': 1,\n",
      "                  'numberOfModifiedDocumentsIndexed': 0,\n",
      "                  'numberOfNewDocumentsIndexed': 1},\n",
      "  'status': 'COMPLETE',\n",
      "  'updatedAt': datetime.datetime(2025, 2, 5, 16, 18, 59, 655550, tzinfo=tzlocal())}\n",
      "Done!...................................\n"
     ]
    }
   ],
   "source": [
    "# Get job \n",
    "while(job['status']!='COMPLETE' ):\n",
    "    get_job_response = bedrock_agent_client.get_ingestion_job(\n",
    "      knowledgeBaseId = kb['knowledgeBaseId'],\n",
    "        dataSourceId = ds[\"dataSourceId\"],\n",
    "        ingestionJobId = job[\"ingestionJobId\"]\n",
    "  )\n",
    "    job = get_job_response[\"ingestionJob\"]\n",
    "pp.pprint(job)\n",
    "interactive_sleep(40)"
   ]
  },
  {
   "cell_type": "code",
   "execution_count": 24,
   "id": "a3c39167-41f7-4332-b79e-a77f3e90b9a4",
   "metadata": {
    "tags": []
   },
   "outputs": [
    {
     "name": "stdout",
     "output_type": "stream",
     "text": [
      "'RQ428EHTVD'\n"
     ]
    }
   ],
   "source": [
    "# Print the knowledge base Id to use for invocation later\n",
    "kb_id = kb[\"knowledgeBaseId\"]\n",
    "pp.pprint(kb_id)"
   ]
  },
  {
   "cell_type": "code",
   "execution_count": 25,
   "id": "5c05a4ad-a389-49b3-929d-8c384b2f07fc",
   "metadata": {
    "tags": []
   },
   "outputs": [
    {
     "name": "stdout",
     "output_type": "stream",
     "text": [
      "Stored 'kb_id' (str)\n"
     ]
    }
   ],
   "source": [
    "# store the kb_id to use later in the invoke request\n",
    "%store kb_id"
   ]
  },
  {
   "cell_type": "markdown",
   "id": "52bbebc6-aa99-452a-bb86-f93950099589",
   "metadata": {
    "tags": []
   },
   "source": [
    "### Test Using RetrieveAndGenerate API"
   ]
  },
  {
   "cell_type": "code",
   "execution_count": 26,
   "id": "923bbcfe-e5fb-4be0-b7d5-f602fcb0be20",
   "metadata": {
    "tags": []
   },
   "outputs": [],
   "source": [
    "# Test the Knowledge Base using the RetrieveAndGenerate API\n",
    "bedrock_agent_runtime_client = boto3.client(\"bedrock-agent-runtime\", region_name=region_name)\n",
    "# Compare how two different Anthropic models respond\n",
    "claude_model_ids = [ [\"Claude 3 Sonnet\", \"anthropic.claude-3-sonnet-20240229-v1:0\"], [\"Claude Instant\", \"anthropic.claude-instant-v1\"]]"
   ]
  },
  {
   "cell_type": "code",
   "execution_count": 27,
   "id": "ea5951a9-2959-4d0a-a814-19d6f468637d",
   "metadata": {
    "tags": []
   },
   "outputs": [],
   "source": [
    "def ask_bedrock_llm_with_knowledge_base(query: str, model_arn: str, kb_id: str) -> str:\n",
    "    response = bedrock_agent_runtime_client.retrieve_and_generate(\n",
    "        input={\n",
    "            'text': query\n",
    "        },\n",
    "        retrieveAndGenerateConfiguration={\n",
    "            'type': 'KNOWLEDGE_BASE',\n",
    "            'knowledgeBaseConfiguration': {\n",
    "                'knowledgeBaseId': kb_id,\n",
    "                'modelArn': model_arn\n",
    "            }\n",
    "        },\n",
    "    )\n",
    "\n",
    "    return response"
   ]
  },
  {
   "cell_type": "code",
   "execution_count": 34,
   "id": "51cff4f0-7bdc-43a2-ad33-7c35499be289",
   "metadata": {
    "tags": []
   },
   "outputs": [
    {
     "name": "stdout",
     "output_type": "stream",
     "text": [
      "---------- Generated using Claude 3 Sonnet:\n",
      "(\"According to the search results, Bob's Pizza offers all employees 12 weeks \"\n",
      " 'of paid parental leave and an additional 12 weeks of unpaid parental leave '\n",
      " 'per child, per year. This generous parental leave policy is mentioned as '\n",
      " 'being offered by Bob, who is described as \"a proud father of five.\"')\n",
      "---------- The citations for the response generated by Claude 3 Sonnet:\n",
      "[ 'We aim to retain and motivate employees by offering attractive but '\n",
      "  'realistic career moves allowing them to develop their skills in the '\n",
      "  \"long-term. Given the importance Bob's Pizza puts on cultural diversity, \"\n",
      "  'employees who are interested in international assignments can be given the '\n",
      "  'opportunity to work in different countries. The international dimension of '\n",
      "  'the Group is used as a competitive advantage to retain and develop talented '\n",
      "  \"people. At Bob's Pizza, promotions are based on sustained performance from \"\n",
      "  'a results and behaviour standpoint, as well as future potential. The '\n",
      "  'Company undertakes an active and rigorous succession planning process at '\n",
      "  'all levels of the organisation to ensure that there is a strong pipeline of '\n",
      "  'successors ready to meet future needs. We are committed to ensuring '\n",
      "  'sustainable conditions for a gender balanced and diverse company. As such, '\n",
      "  \"Bob's Pizza has focused on removing barriers to career progression for \"\n",
      "  'women and men by developing a more flexible work environment, initiating '\n",
      "  'mentoring schemes, having flexible career paths and providing dual career '\n",
      "  'support. HR management provides the support for implementing the necessary '\n",
      "  'tools, and partners with line managers to prepare the resources necessary '\n",
      "  'for the continued development of people and the Company.       Employee '\n",
      "  \"relations  Since its founding, Bob's Pizza has built a culture based on \"\n",
      "  \"values of trust, mutual respect and dialogue. Bob's Pizza management and \"\n",
      "  'employees all over the world work daily to create and maintain positive '\n",
      "  'individual and collective relationships, and are expected to do so as a '\n",
      "  \"core part of their job. Bob's Pizza not only upholds the freedom of \"\n",
      "  'association of its employees and the effective recognition of the right to '\n",
      "  'collective bargaining, but also ensures that direct and frequent '\n",
      "  'communication is established in the workplace. While dialogue with trade '\n",
      "  'unions is essential, it does not replace the close relationship that our '\n",
      "  'management maintains with all employees. In the spirit of continuous '\n",
      "  'improvement, we encourage two-way dialogue with our employees that goes '\n",
      "  'beyond the traditional aspects of collective bargaining in order to share '\n",
      "  'knowledge and to jointly find opportunities related to important matters '\n",
      "  'such as Creating Shared Value, the health and safety in the workplace and '\n",
      "  'our concern for the environment. The Company and employee representatives '\n",
      "  'are expected to make all necessary efforts to develop fair and constructive '\n",
      "  'dialogues, overcome the difficulties that they might encounter, reach '\n",
      "  'sustainable agreements and implement them. As a proud father of five, Bob '\n",
      "  'is delighted to offer all employees 12 weeks paid parental leave and a '\n",
      "  'further 12 weeks unpaid leave. This benefit applies per child, per year.']\n",
      "\n",
      "---------- Generated using Claude Instant:\n",
      "(\"The parental leave policy at Bob's Pizza is 12 weeks of paid parental leave \"\n",
      " 'and an additional 12 weeks of unpaid parental leave per child per year.')\n",
      "---------- The citations for the response generated by Claude Instant:\n",
      "[ 'We aim to retain and motivate employees by offering attractive but '\n",
      "  'realistic career moves allowing them to develop their skills in the '\n",
      "  \"long-term. Given the importance Bob's Pizza puts on cultural diversity, \"\n",
      "  'employees who are interested in international assignments can be given the '\n",
      "  'opportunity to work in different countries. The international dimension of '\n",
      "  'the Group is used as a competitive advantage to retain and develop talented '\n",
      "  \"people. At Bob's Pizza, promotions are based on sustained performance from \"\n",
      "  'a results and behaviour standpoint, as well as future potential. The '\n",
      "  'Company undertakes an active and rigorous succession planning process at '\n",
      "  'all levels of the organisation to ensure that there is a strong pipeline of '\n",
      "  'successors ready to meet future needs. We are committed to ensuring '\n",
      "  'sustainable conditions for a gender balanced and diverse company. As such, '\n",
      "  \"Bob's Pizza has focused on removing barriers to career progression for \"\n",
      "  'women and men by developing a more flexible work environment, initiating '\n",
      "  'mentoring schemes, having flexible career paths and providing dual career '\n",
      "  'support. HR management provides the support for implementing the necessary '\n",
      "  'tools, and partners with line managers to prepare the resources necessary '\n",
      "  'for the continued development of people and the Company.       Employee '\n",
      "  \"relations  Since its founding, Bob's Pizza has built a culture based on \"\n",
      "  \"values of trust, mutual respect and dialogue. Bob's Pizza management and \"\n",
      "  'employees all over the world work daily to create and maintain positive '\n",
      "  'individual and collective relationships, and are expected to do so as a '\n",
      "  \"core part of their job. Bob's Pizza not only upholds the freedom of \"\n",
      "  'association of its employees and the effective recognition of the right to '\n",
      "  'collective bargaining, but also ensures that direct and frequent '\n",
      "  'communication is established in the workplace. While dialogue with trade '\n",
      "  'unions is essential, it does not replace the close relationship that our '\n",
      "  'management maintains with all employees. In the spirit of continuous '\n",
      "  'improvement, we encourage two-way dialogue with our employees that goes '\n",
      "  'beyond the traditional aspects of collective bargaining in order to share '\n",
      "  'knowledge and to jointly find opportunities related to important matters '\n",
      "  'such as Creating Shared Value, the health and safety in the workplace and '\n",
      "  'our concern for the environment. The Company and employee representatives '\n",
      "  'are expected to make all necessary efforts to develop fair and constructive '\n",
      "  'dialogues, overcome the difficulties that they might encounter, reach '\n",
      "  'sustainable agreements and implement them. As a proud father of five, Bob '\n",
      "  'is delighted to offer all employees 12 weeks paid parental leave and a '\n",
      "  'further 12 weeks unpaid leave. This benefit applies per child, per year.']\n",
      "\n"
     ]
    }
   ],
   "source": [
    "query = \"What is the parental leave policy at Bob's Pizza?\"\n",
    "\n",
    "for model_id in claude_model_ids:\n",
    "    model_arn = f'arn:aws:bedrock:{region_name}::foundation-model/{model_id[1]}'\n",
    "    response = ask_bedrock_llm_with_knowledge_base(query, model_arn, kb_id)\n",
    "    generated_text = response['output']['text']\n",
    "    citations = response[\"citations\"]\n",
    "    contexts = []\n",
    "    for citation in citations:\n",
    "        retrievedReferences = citation[\"retrievedReferences\"]\n",
    "        for reference in retrievedReferences:\n",
    "            contexts.append(reference[\"content\"][\"text\"])\n",
    "    print(f\"---------- Generated using {model_id[0]}:\")\n",
    "    pp.pprint(generated_text )\n",
    "    print(f'---------- The citations for the response generated by {model_id[0]}:')\n",
    "    pp.pprint(contexts)\n",
    "    print()"
   ]
  },
  {
   "cell_type": "code",
   "execution_count": 35,
   "id": "7d7483af-08ff-4fa5-a635-f5d8d0109ebc",
   "metadata": {
    "tags": []
   },
   "outputs": [
    {
     "name": "stdout",
     "output_type": "stream",
     "text": [
      "---------- Generated using Claude 3 Sonnet:\n",
      "('I could not find any information about a specific sick leave policy for '\n",
      " \"employees at Bob's Pizza in the provided search results. The results discuss \"\n",
      " \"Bob's Pizza's policies and approaches around total rewards, employment and \"\n",
      " 'working conditions, training and learning, employee relations, and creating '\n",
      " 'a flexible and dynamic organization, but do not mention details on sick '\n",
      " 'leave.')\n",
      "---------- The citations for the response generated by Claude 3 Sonnet:\n",
      "[]\n",
      "\n",
      "---------- Generated using Claude Instant:\n",
      "(\"The search results do not contain any information about Bob's Pizza's \"\n",
      " 'specific sick leave policy.')\n",
      "---------- The citations for the response generated by Claude Instant:\n",
      "[]\n",
      "\n"
     ]
    }
   ],
   "source": [
    "# Test using a prompt it should not be able to answer. The model should return that it doesn't know.\n",
    "query = \"What is the sick leave policy at Bob's Pizza?\"\n",
    "\n",
    "for model_id in claude_model_ids:\n",
    "    model_arn = f'arn:aws:bedrock:{region_name}::foundation-model/{model_id[1]}'\n",
    "    response = ask_bedrock_llm_with_knowledge_base(query, model_arn, kb_id)\n",
    "    generated_text = response['output']['text']\n",
    "    citations = response[\"citations\"]\n",
    "    contexts = []\n",
    "    for citation in citations:\n",
    "        retrievedReferences = citation[\"retrievedReferences\"]\n",
    "        for reference in retrievedReferences:\n",
    "            contexts.append(reference[\"content\"][\"text\"])\n",
    "    print(f\"---------- Generated using {model_id[0]}:\")\n",
    "    pp.pprint(generated_text )\n",
    "    print(f'---------- The citations for the response generated by {model_id[0]}:')\n",
    "    pp.pprint(contexts)\n",
    "    print()"
   ]
  },
  {
   "cell_type": "markdown",
   "id": "b2d8fc0e-6d1d-4358-bce5-c6865ed1ef6b",
   "metadata": {
    "tags": []
   },
   "source": [
    "### Run The Following To Clean Up Knowledge Base, OSS, S3 and IAM"
   ]
  },
  {
   "cell_type": "code",
   "execution_count": 36,
   "id": "174425a5-2485-4c3b-8261-b556e8b10ba6",
   "metadata": {
    "tags": []
   },
   "outputs": [],
   "source": [
    "# clean up Bedrock client\n",
    "bedrock_agent_client = boto3_session.client('bedrock-agent', region_name=region_name)"
   ]
  },
  {
   "cell_type": "code",
   "execution_count": 37,
   "id": "2f0e7d62-867a-4029-95ae-e85bbf42d34d",
   "metadata": {
    "tags": []
   },
   "outputs": [
    {
     "data": {
      "text/plain": [
       "{'ResponseMetadata': {'RequestId': 'cd5f020e-d246-4d92-90f3-a03579e27488',\n",
       "  'HTTPStatusCode': 200,\n",
       "  'HTTPHeaders': {'x-amzn-requestid': 'cd5f020e-d246-4d92-90f3-a03579e27488',\n",
       "   'date': 'Wed, 05 Feb 2025 16:44:33 GMT',\n",
       "   'content-type': 'application/x-amz-json-1.0',\n",
       "   'content-length': '2',\n",
       "   'connection': 'keep-alive'},\n",
       "  'RetryAttempts': 0}}"
      ]
     },
     "execution_count": 37,
     "metadata": {},
     "output_type": "execute_result"
    }
   ],
   "source": [
    "# clean up Knowledge Base\n",
    "bedrock_agent_client.delete_data_source(dataSourceId = ds[\"dataSourceId\"], knowledgeBaseId=kb['knowledgeBaseId'])\n",
    "bedrock_agent_client.delete_knowledge_base(knowledgeBaseId=kb['knowledgeBaseId'])\n",
    "oss_client.indices.delete(index=index_name)\n",
    "aoss_client.delete_collection(id=collection_id)\n",
    "aoss_client.delete_access_policy(type=\"data\", name=access_policy['accessPolicyDetail']['name'])\n",
    "aoss_client.delete_security_policy(type=\"network\", name=network_policy['securityPolicyDetail']['name'])\n",
    "aoss_client.delete_security_policy(type=\"encryption\", name=encryption_policy['securityPolicyDetail']['name'])"
   ]
  },
  {
   "cell_type": "code",
   "execution_count": 38,
   "id": "9e0a789e-4bae-42c5-973d-b3f6c4865d2c",
   "metadata": {
    "tags": []
   },
   "outputs": [
    {
     "data": {
      "text/plain": [
       "0"
      ]
     },
     "execution_count": 38,
     "metadata": {},
     "output_type": "execute_result"
    }
   ],
   "source": [
    "# clean up IAM\n",
    "from utility import delete_iam_role_and_policies\n",
    "delete_iam_role_and_policies()"
   ]
  },
  {
   "cell_type": "code",
   "execution_count": null,
   "id": "8d6aac2e-03eb-4fe5-bc8e-d6af51a4d69a",
   "metadata": {
    "tags": []
   },
   "outputs": [],
   "source": [
    "# clean up S3\n",
    "objects = s3_client.list_objects(Bucket=bucket_name)\n",
    "if 'Contents' in objects:\n",
    "    for obj in objects['Contents']:\n",
    "        s3_client.delete_object(Bucket=bucket_name, Key=obj['Key'])\n",
    "s3_client.delete_bucket(Bucket=bucket_name)"
   ]
  },
  {
   "cell_type": "markdown",
   "id": "bdaafc7e-5cfd-4533-9f6b-e6eb5ed79392",
   "metadata": {
    "tags": []
   },
   "source": [
    "### If you no longer need the SageMaker notebook, remember to delete it. "
   ]
  }
 ],
 "metadata": {
  "availableInstances": [
   {
    "_defaultOrder": 0,
    "_isFastLaunch": true,
    "category": "General purpose",
    "gpuNum": 0,
    "hideHardwareSpecs": false,
    "memoryGiB": 4,
    "name": "ml.t3.medium",
    "vcpuNum": 2
   },
   {
    "_defaultOrder": 1,
    "_isFastLaunch": false,
    "category": "General purpose",
    "gpuNum": 0,
    "hideHardwareSpecs": false,
    "memoryGiB": 8,
    "name": "ml.t3.large",
    "vcpuNum": 2
   },
   {
    "_defaultOrder": 2,
    "_isFastLaunch": false,
    "category": "General purpose",
    "gpuNum": 0,
    "hideHardwareSpecs": false,
    "memoryGiB": 16,
    "name": "ml.t3.xlarge",
    "vcpuNum": 4
   },
   {
    "_defaultOrder": 3,
    "_isFastLaunch": false,
    "category": "General purpose",
    "gpuNum": 0,
    "hideHardwareSpecs": false,
    "memoryGiB": 32,
    "name": "ml.t3.2xlarge",
    "vcpuNum": 8
   },
   {
    "_defaultOrder": 4,
    "_isFastLaunch": true,
    "category": "General purpose",
    "gpuNum": 0,
    "hideHardwareSpecs": false,
    "memoryGiB": 8,
    "name": "ml.m5.large",
    "vcpuNum": 2
   },
   {
    "_defaultOrder": 5,
    "_isFastLaunch": false,
    "category": "General purpose",
    "gpuNum": 0,
    "hideHardwareSpecs": false,
    "memoryGiB": 16,
    "name": "ml.m5.xlarge",
    "vcpuNum": 4
   },
   {
    "_defaultOrder": 6,
    "_isFastLaunch": false,
    "category": "General purpose",
    "gpuNum": 0,
    "hideHardwareSpecs": false,
    "memoryGiB": 32,
    "name": "ml.m5.2xlarge",
    "vcpuNum": 8
   },
   {
    "_defaultOrder": 7,
    "_isFastLaunch": false,
    "category": "General purpose",
    "gpuNum": 0,
    "hideHardwareSpecs": false,
    "memoryGiB": 64,
    "name": "ml.m5.4xlarge",
    "vcpuNum": 16
   },
   {
    "_defaultOrder": 8,
    "_isFastLaunch": false,
    "category": "General purpose",
    "gpuNum": 0,
    "hideHardwareSpecs": false,
    "memoryGiB": 128,
    "name": "ml.m5.8xlarge",
    "vcpuNum": 32
   },
   {
    "_defaultOrder": 9,
    "_isFastLaunch": false,
    "category": "General purpose",
    "gpuNum": 0,
    "hideHardwareSpecs": false,
    "memoryGiB": 192,
    "name": "ml.m5.12xlarge",
    "vcpuNum": 48
   },
   {
    "_defaultOrder": 10,
    "_isFastLaunch": false,
    "category": "General purpose",
    "gpuNum": 0,
    "hideHardwareSpecs": false,
    "memoryGiB": 256,
    "name": "ml.m5.16xlarge",
    "vcpuNum": 64
   },
   {
    "_defaultOrder": 11,
    "_isFastLaunch": false,
    "category": "General purpose",
    "gpuNum": 0,
    "hideHardwareSpecs": false,
    "memoryGiB": 384,
    "name": "ml.m5.24xlarge",
    "vcpuNum": 96
   },
   {
    "_defaultOrder": 12,
    "_isFastLaunch": false,
    "category": "General purpose",
    "gpuNum": 0,
    "hideHardwareSpecs": false,
    "memoryGiB": 8,
    "name": "ml.m5d.large",
    "vcpuNum": 2
   },
   {
    "_defaultOrder": 13,
    "_isFastLaunch": false,
    "category": "General purpose",
    "gpuNum": 0,
    "hideHardwareSpecs": false,
    "memoryGiB": 16,
    "name": "ml.m5d.xlarge",
    "vcpuNum": 4
   },
   {
    "_defaultOrder": 14,
    "_isFastLaunch": false,
    "category": "General purpose",
    "gpuNum": 0,
    "hideHardwareSpecs": false,
    "memoryGiB": 32,
    "name": "ml.m5d.2xlarge",
    "vcpuNum": 8
   },
   {
    "_defaultOrder": 15,
    "_isFastLaunch": false,
    "category": "General purpose",
    "gpuNum": 0,
    "hideHardwareSpecs": false,
    "memoryGiB": 64,
    "name": "ml.m5d.4xlarge",
    "vcpuNum": 16
   },
   {
    "_defaultOrder": 16,
    "_isFastLaunch": false,
    "category": "General purpose",
    "gpuNum": 0,
    "hideHardwareSpecs": false,
    "memoryGiB": 128,
    "name": "ml.m5d.8xlarge",
    "vcpuNum": 32
   },
   {
    "_defaultOrder": 17,
    "_isFastLaunch": false,
    "category": "General purpose",
    "gpuNum": 0,
    "hideHardwareSpecs": false,
    "memoryGiB": 192,
    "name": "ml.m5d.12xlarge",
    "vcpuNum": 48
   },
   {
    "_defaultOrder": 18,
    "_isFastLaunch": false,
    "category": "General purpose",
    "gpuNum": 0,
    "hideHardwareSpecs": false,
    "memoryGiB": 256,
    "name": "ml.m5d.16xlarge",
    "vcpuNum": 64
   },
   {
    "_defaultOrder": 19,
    "_isFastLaunch": false,
    "category": "General purpose",
    "gpuNum": 0,
    "hideHardwareSpecs": false,
    "memoryGiB": 384,
    "name": "ml.m5d.24xlarge",
    "vcpuNum": 96
   },
   {
    "_defaultOrder": 20,
    "_isFastLaunch": false,
    "category": "General purpose",
    "gpuNum": 0,
    "hideHardwareSpecs": true,
    "memoryGiB": 0,
    "name": "ml.geospatial.interactive",
    "supportedImageNames": [
     "sagemaker-geospatial-v1-0"
    ],
    "vcpuNum": 0
   },
   {
    "_defaultOrder": 21,
    "_isFastLaunch": true,
    "category": "Compute optimized",
    "gpuNum": 0,
    "hideHardwareSpecs": false,
    "memoryGiB": 4,
    "name": "ml.c5.large",
    "vcpuNum": 2
   },
   {
    "_defaultOrder": 22,
    "_isFastLaunch": false,
    "category": "Compute optimized",
    "gpuNum": 0,
    "hideHardwareSpecs": false,
    "memoryGiB": 8,
    "name": "ml.c5.xlarge",
    "vcpuNum": 4
   },
   {
    "_defaultOrder": 23,
    "_isFastLaunch": false,
    "category": "Compute optimized",
    "gpuNum": 0,
    "hideHardwareSpecs": false,
    "memoryGiB": 16,
    "name": "ml.c5.2xlarge",
    "vcpuNum": 8
   },
   {
    "_defaultOrder": 24,
    "_isFastLaunch": false,
    "category": "Compute optimized",
    "gpuNum": 0,
    "hideHardwareSpecs": false,
    "memoryGiB": 32,
    "name": "ml.c5.4xlarge",
    "vcpuNum": 16
   },
   {
    "_defaultOrder": 25,
    "_isFastLaunch": false,
    "category": "Compute optimized",
    "gpuNum": 0,
    "hideHardwareSpecs": false,
    "memoryGiB": 72,
    "name": "ml.c5.9xlarge",
    "vcpuNum": 36
   },
   {
    "_defaultOrder": 26,
    "_isFastLaunch": false,
    "category": "Compute optimized",
    "gpuNum": 0,
    "hideHardwareSpecs": false,
    "memoryGiB": 96,
    "name": "ml.c5.12xlarge",
    "vcpuNum": 48
   },
   {
    "_defaultOrder": 27,
    "_isFastLaunch": false,
    "category": "Compute optimized",
    "gpuNum": 0,
    "hideHardwareSpecs": false,
    "memoryGiB": 144,
    "name": "ml.c5.18xlarge",
    "vcpuNum": 72
   },
   {
    "_defaultOrder": 28,
    "_isFastLaunch": false,
    "category": "Compute optimized",
    "gpuNum": 0,
    "hideHardwareSpecs": false,
    "memoryGiB": 192,
    "name": "ml.c5.24xlarge",
    "vcpuNum": 96
   },
   {
    "_defaultOrder": 29,
    "_isFastLaunch": true,
    "category": "Accelerated computing",
    "gpuNum": 1,
    "hideHardwareSpecs": false,
    "memoryGiB": 16,
    "name": "ml.g4dn.xlarge",
    "vcpuNum": 4
   },
   {
    "_defaultOrder": 30,
    "_isFastLaunch": false,
    "category": "Accelerated computing",
    "gpuNum": 1,
    "hideHardwareSpecs": false,
    "memoryGiB": 32,
    "name": "ml.g4dn.2xlarge",
    "vcpuNum": 8
   },
   {
    "_defaultOrder": 31,
    "_isFastLaunch": false,
    "category": "Accelerated computing",
    "gpuNum": 1,
    "hideHardwareSpecs": false,
    "memoryGiB": 64,
    "name": "ml.g4dn.4xlarge",
    "vcpuNum": 16
   },
   {
    "_defaultOrder": 32,
    "_isFastLaunch": false,
    "category": "Accelerated computing",
    "gpuNum": 1,
    "hideHardwareSpecs": false,
    "memoryGiB": 128,
    "name": "ml.g4dn.8xlarge",
    "vcpuNum": 32
   },
   {
    "_defaultOrder": 33,
    "_isFastLaunch": false,
    "category": "Accelerated computing",
    "gpuNum": 4,
    "hideHardwareSpecs": false,
    "memoryGiB": 192,
    "name": "ml.g4dn.12xlarge",
    "vcpuNum": 48
   },
   {
    "_defaultOrder": 34,
    "_isFastLaunch": false,
    "category": "Accelerated computing",
    "gpuNum": 1,
    "hideHardwareSpecs": false,
    "memoryGiB": 256,
    "name": "ml.g4dn.16xlarge",
    "vcpuNum": 64
   },
   {
    "_defaultOrder": 35,
    "_isFastLaunch": false,
    "category": "Accelerated computing",
    "gpuNum": 1,
    "hideHardwareSpecs": false,
    "memoryGiB": 61,
    "name": "ml.p3.2xlarge",
    "vcpuNum": 8
   },
   {
    "_defaultOrder": 36,
    "_isFastLaunch": false,
    "category": "Accelerated computing",
    "gpuNum": 4,
    "hideHardwareSpecs": false,
    "memoryGiB": 244,
    "name": "ml.p3.8xlarge",
    "vcpuNum": 32
   },
   {
    "_defaultOrder": 37,
    "_isFastLaunch": false,
    "category": "Accelerated computing",
    "gpuNum": 8,
    "hideHardwareSpecs": false,
    "memoryGiB": 488,
    "name": "ml.p3.16xlarge",
    "vcpuNum": 64
   },
   {
    "_defaultOrder": 38,
    "_isFastLaunch": false,
    "category": "Accelerated computing",
    "gpuNum": 8,
    "hideHardwareSpecs": false,
    "memoryGiB": 768,
    "name": "ml.p3dn.24xlarge",
    "vcpuNum": 96
   },
   {
    "_defaultOrder": 39,
    "_isFastLaunch": false,
    "category": "Memory Optimized",
    "gpuNum": 0,
    "hideHardwareSpecs": false,
    "memoryGiB": 16,
    "name": "ml.r5.large",
    "vcpuNum": 2
   },
   {
    "_defaultOrder": 40,
    "_isFastLaunch": false,
    "category": "Memory Optimized",
    "gpuNum": 0,
    "hideHardwareSpecs": false,
    "memoryGiB": 32,
    "name": "ml.r5.xlarge",
    "vcpuNum": 4
   },
   {
    "_defaultOrder": 41,
    "_isFastLaunch": false,
    "category": "Memory Optimized",
    "gpuNum": 0,
    "hideHardwareSpecs": false,
    "memoryGiB": 64,
    "name": "ml.r5.2xlarge",
    "vcpuNum": 8
   },
   {
    "_defaultOrder": 42,
    "_isFastLaunch": false,
    "category": "Memory Optimized",
    "gpuNum": 0,
    "hideHardwareSpecs": false,
    "memoryGiB": 128,
    "name": "ml.r5.4xlarge",
    "vcpuNum": 16
   },
   {
    "_defaultOrder": 43,
    "_isFastLaunch": false,
    "category": "Memory Optimized",
    "gpuNum": 0,
    "hideHardwareSpecs": false,
    "memoryGiB": 256,
    "name": "ml.r5.8xlarge",
    "vcpuNum": 32
   },
   {
    "_defaultOrder": 44,
    "_isFastLaunch": false,
    "category": "Memory Optimized",
    "gpuNum": 0,
    "hideHardwareSpecs": false,
    "memoryGiB": 384,
    "name": "ml.r5.12xlarge",
    "vcpuNum": 48
   },
   {
    "_defaultOrder": 45,
    "_isFastLaunch": false,
    "category": "Memory Optimized",
    "gpuNum": 0,
    "hideHardwareSpecs": false,
    "memoryGiB": 512,
    "name": "ml.r5.16xlarge",
    "vcpuNum": 64
   },
   {
    "_defaultOrder": 46,
    "_isFastLaunch": false,
    "category": "Memory Optimized",
    "gpuNum": 0,
    "hideHardwareSpecs": false,
    "memoryGiB": 768,
    "name": "ml.r5.24xlarge",
    "vcpuNum": 96
   },
   {
    "_defaultOrder": 47,
    "_isFastLaunch": false,
    "category": "Accelerated computing",
    "gpuNum": 1,
    "hideHardwareSpecs": false,
    "memoryGiB": 16,
    "name": "ml.g5.xlarge",
    "vcpuNum": 4
   },
   {
    "_defaultOrder": 48,
    "_isFastLaunch": false,
    "category": "Accelerated computing",
    "gpuNum": 1,
    "hideHardwareSpecs": false,
    "memoryGiB": 32,
    "name": "ml.g5.2xlarge",
    "vcpuNum": 8
   },
   {
    "_defaultOrder": 49,
    "_isFastLaunch": false,
    "category": "Accelerated computing",
    "gpuNum": 1,
    "hideHardwareSpecs": false,
    "memoryGiB": 64,
    "name": "ml.g5.4xlarge",
    "vcpuNum": 16
   },
   {
    "_defaultOrder": 50,
    "_isFastLaunch": false,
    "category": "Accelerated computing",
    "gpuNum": 1,
    "hideHardwareSpecs": false,
    "memoryGiB": 128,
    "name": "ml.g5.8xlarge",
    "vcpuNum": 32
   },
   {
    "_defaultOrder": 51,
    "_isFastLaunch": false,
    "category": "Accelerated computing",
    "gpuNum": 1,
    "hideHardwareSpecs": false,
    "memoryGiB": 256,
    "name": "ml.g5.16xlarge",
    "vcpuNum": 64
   },
   {
    "_defaultOrder": 52,
    "_isFastLaunch": false,
    "category": "Accelerated computing",
    "gpuNum": 4,
    "hideHardwareSpecs": false,
    "memoryGiB": 192,
    "name": "ml.g5.12xlarge",
    "vcpuNum": 48
   },
   {
    "_defaultOrder": 53,
    "_isFastLaunch": false,
    "category": "Accelerated computing",
    "gpuNum": 4,
    "hideHardwareSpecs": false,
    "memoryGiB": 384,
    "name": "ml.g5.24xlarge",
    "vcpuNum": 96
   },
   {
    "_defaultOrder": 54,
    "_isFastLaunch": false,
    "category": "Accelerated computing",
    "gpuNum": 8,
    "hideHardwareSpecs": false,
    "memoryGiB": 768,
    "name": "ml.g5.48xlarge",
    "vcpuNum": 192
   },
   {
    "_defaultOrder": 55,
    "_isFastLaunch": false,
    "category": "Accelerated computing",
    "gpuNum": 8,
    "hideHardwareSpecs": false,
    "memoryGiB": 1152,
    "name": "ml.p4d.24xlarge",
    "vcpuNum": 96
   },
   {
    "_defaultOrder": 56,
    "_isFastLaunch": false,
    "category": "Accelerated computing",
    "gpuNum": 8,
    "hideHardwareSpecs": false,
    "memoryGiB": 1152,
    "name": "ml.p4de.24xlarge",
    "vcpuNum": 96
   },
   {
    "_defaultOrder": 57,
    "_isFastLaunch": false,
    "category": "Accelerated computing",
    "gpuNum": 0,
    "hideHardwareSpecs": false,
    "memoryGiB": 32,
    "name": "ml.trn1.2xlarge",
    "vcpuNum": 8
   },
   {
    "_defaultOrder": 58,
    "_isFastLaunch": false,
    "category": "Accelerated computing",
    "gpuNum": 0,
    "hideHardwareSpecs": false,
    "memoryGiB": 512,
    "name": "ml.trn1.32xlarge",
    "vcpuNum": 128
   },
   {
    "_defaultOrder": 59,
    "_isFastLaunch": false,
    "category": "Accelerated computing",
    "gpuNum": 0,
    "hideHardwareSpecs": false,
    "memoryGiB": 512,
    "name": "ml.trn1n.32xlarge",
    "vcpuNum": 128
   }
  ],
  "instance_type": "ml.t3.medium",
  "kernelspec": {
   "display_name": "conda_tensorflow2_p310",
   "language": "python",
   "name": "conda_tensorflow2_p310"
  },
  "language_info": {
   "codemirror_mode": {
    "name": "ipython",
    "version": 3
   },
   "file_extension": ".py",
   "mimetype": "text/x-python",
   "name": "python",
   "nbconvert_exporter": "python",
   "pygments_lexer": "ipython3",
   "version": "3.10.16"
  }
 },
 "nbformat": 4,
 "nbformat_minor": 5
}
